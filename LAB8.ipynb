{
 "cells": [
  {
   "cell_type": "code",
   "execution_count": 45,
   "id": "27db7058-7297-4452-abac-e23d863e0d87",
   "metadata": {},
   "outputs": [
    {
     "name": "stdout",
     "output_type": "stream",
     "text": [
      "Zara\n",
      "7\n"
     ]
    }
   ],
   "source": [
    "#Accessing values in a dictionary\n",
    "dict1={'Name':'Zara' , 'Age': 7 ,'Class':'first'}\n",
    "print(dict1['Name'])\n",
    "print(dict1['Age'])"
   ]
  },
  {
   "cell_type": "code",
   "execution_count": 46,
   "id": "ce840426-d576-4e32-8a37-062ab29fb606",
   "metadata": {},
   "outputs": [
    {
     "name": "stdout",
     "output_type": "stream",
     "text": [
      "{'Name': 'Zara', 'Age': 0, 'Class': 'first'}\n"
     ]
    }
   ],
   "source": [
    "#updating a dict\n",
    "dict1['Age']=0\n",
    "print(dict1)"
   ]
  },
  {
   "cell_type": "code",
   "execution_count": 47,
   "id": "4a56e375-8a22-4396-8810-cbfac4c8d683",
   "metadata": {},
   "outputs": [
    {
     "name": "stdout",
     "output_type": "stream",
     "text": [
      "{'Name': 'Zara', 'Age': 0, 'Class': 'first', 'school': 'DPS'}\n"
     ]
    }
   ],
   "source": [
    "#Add a new entry\n",
    "dict1['school']='DPS'\n",
    "print(dict1)"
   ]
  },
  {
   "cell_type": "code",
   "execution_count": 48,
   "id": "8532bffe-0144-4bce-9743-9d2d98ade4a4",
   "metadata": {},
   "outputs": [
    {
     "name": "stdout",
     "output_type": "stream",
     "text": [
      "{'Age': 0, 'Class': 'first', 'school': 'DPS'}\n"
     ]
    }
   ],
   "source": [
    "#Delete entries\n",
    "del dict1['Name']\n",
    "print(dict1)"
   ]
  },
  {
   "cell_type": "code",
   "execution_count": 49,
   "id": "e4ed6c36-ac3d-4285-9c97-7e51d59a84df",
   "metadata": {},
   "outputs": [
    {
     "name": "stdout",
     "output_type": "stream",
     "text": [
      "{}\n"
     ]
    }
   ],
   "source": [
    "#clear whole dict\n",
    "dict1.clear()\n",
    "print(dict1)"
   ]
  },
  {
   "cell_type": "code",
   "execution_count": 50,
   "id": "66642a33-bb3a-4ac6-92ad-62f78db919bd",
   "metadata": {
    "scrolled": true
   },
   "outputs": [
    {
     "ename": "NameError",
     "evalue": "name 'dict1' is not defined",
     "output_type": "error",
     "traceback": [
      "\u001b[1;31m---------------------------------------------------------------------------\u001b[0m",
      "\u001b[1;31mNameError\u001b[0m                                 Traceback (most recent call last)",
      "Cell \u001b[1;32mIn[50], line 3\u001b[0m\n\u001b[0;32m      1\u001b[0m \u001b[38;5;66;03m#delete whole dict\u001b[39;00m\n\u001b[0;32m      2\u001b[0m \u001b[38;5;28;01mdel\u001b[39;00m dict1\n\u001b[1;32m----> 3\u001b[0m \u001b[38;5;28mprint\u001b[39m(\u001b[43mdict1\u001b[49m)\n",
      "\u001b[1;31mNameError\u001b[0m: name 'dict1' is not defined"
     ]
    }
   ],
   "source": [
    "#delete whole dict\n",
    "del dict1\n",
    "print(dict1)"
   ]
  },
  {
   "cell_type": "markdown",
   "id": "66bc65ef-3cce-4074-b2ba-fa6244375914",
   "metadata": {},
   "source": [
    "# Properties of dict"
   ]
  },
  {
   "cell_type": "code",
   "execution_count": 51,
   "id": "c5c30edf-cba9-4364-a68c-84555fa82e5a",
   "metadata": {},
   "outputs": [
    {
     "name": "stdout",
     "output_type": "stream",
     "text": [
      "78\n"
     ]
    }
   ],
   "source": [
    "#multiple keys with same name are not allowed. if there are such keys , them one with last assignment is considered\n",
    "\n",
    "dict1={'Name': 'Zara', 'Age': 0, 'Class': 'first', 'Age': '78'}\n",
    "print(dict1['Age'])"
   ]
  },
  {
   "cell_type": "markdown",
   "id": "1d19fb6b-96bf-4610-9328-cb292f04f051",
   "metadata": {},
   "source": [
    "# DICT METHODS"
   ]
  },
  {
   "cell_type": "code",
   "execution_count": 52,
   "id": "517263be-9f34-4c78-b3d7-4d505329dcde",
   "metadata": {},
   "outputs": [
    {
     "name": "stdout",
     "output_type": "stream",
     "text": [
      "3\n"
     ]
    }
   ],
   "source": [
    "#dict length\n",
    "print(len(dict1))"
   ]
  },
  {
   "cell_type": "code",
   "execution_count": 53,
   "id": "b900690d-c70b-4e9e-b3fa-825463ab016f",
   "metadata": {},
   "outputs": [
    {
     "name": "stdout",
     "output_type": "stream",
     "text": [
      "{'Name': 'Zara', 'Age': '78', 'Class': 'first'}\n",
      "<class 'str'>\n"
     ]
    }
   ],
   "source": [
    "#dict to string\n",
    "a=str(dict1)\n",
    "print(a)\n",
    "print(type(a))"
   ]
  },
  {
   "cell_type": "code",
   "execution_count": 54,
   "id": "c053ad2d-5cba-43ca-a0d3-b98672ee5677",
   "metadata": {},
   "outputs": [
    {
     "name": "stdout",
     "output_type": "stream",
     "text": [
      "{'Name': 'Zara', 'Age': '78', 'Class': 'first'}\n"
     ]
    }
   ],
   "source": [
    "#dict copy() returns a shallow copy of the dictinary\n",
    "dict2=dict1.copy()\n",
    "print(dict2)"
   ]
  },
  {
   "cell_type": "code",
   "execution_count": 55,
   "id": "9423b008-5f5c-48d6-9ff8-97e9a8a91443",
   "metadata": {},
   "outputs": [
    {
     "name": "stdout",
     "output_type": "stream",
     "text": [
      "{'Name': None, 'Age': None, 'Gender': None}\n",
      "{'Name': 10, 'Age': 10, 'Gender': 10}\n"
     ]
    }
   ],
   "source": [
    "#Fromkeys() creates a new dict with keys from seq and values set to value\n",
    "\n",
    "seq=['Name','Age','Gender']\n",
    "dict2=dict1.fromkeys(seq)\n",
    "print(dict2)\n",
    "\n",
    "dict2=dict1.fromkeys(seq,10)\n",
    "print(dict2)"
   ]
  },
  {
   "cell_type": "code",
   "execution_count": 56,
   "id": "63df17f4-8c2e-4ced-bfbc-ad8c845898b5",
   "metadata": {},
   "outputs": [
    {
     "name": "stdout",
     "output_type": "stream",
     "text": [
      "Zara\n",
      "dict_items([('Name', 10), ('Age', 10), ('Gender', 10)])\n"
     ]
    }
   ],
   "source": [
    "#get() method - returns value for given key\n",
    "print(dict1.get('Name'))\n",
    "#items() - returns a list of dict's key value tuple pairs\n",
    "print(dict2.items())\n"
   ]
  },
  {
   "cell_type": "code",
   "execution_count": 57,
   "id": "930d77bd-318f-461a-a1d1-0f67bf531a91",
   "metadata": {},
   "outputs": [
    {
     "name": "stdout",
     "output_type": "stream",
     "text": [
      "{'Name': 'Zara', 'Age': '78', 'Class': 'first', 'Sex1': 'Male'}\n"
     ]
    }
   ],
   "source": [
    "#setdefault() - similar to get  but will set key default id if the key is not already there in dict\n",
    "#syntax - dict.setdefault(key,default=None)\n",
    "dict1.setdefault('Age',None)\n",
    "dict1.setdefault('Sex1','Male')\n",
    "print(dict1)"
   ]
  },
  {
   "cell_type": "code",
   "execution_count": 58,
   "id": "c05c42bd-2208-41c3-b0ea-df443063aaec",
   "metadata": {},
   "outputs": [
    {
     "name": "stdout",
     "output_type": "stream",
     "text": [
      "{'Name': 'Zara', 'Age': '78', 'Class': 'first', 'Sex1': 'Male'}\n",
      "{'Gender': 'Female', 'Senior_citizen': 'Yes'}\n",
      "{'Name': 'Zara', 'Age': '78', 'Class': 'first', 'Sex1': 'Male', 'Gender': 'Female', 'Senior_citizen': 'Yes'}\n"
     ]
    }
   ],
   "source": [
    "#update() - add dict2 contents to dict1\n",
    "print(dict1)\n",
    "dict2={'Gender':'Female','Senior_citizen':'Yes'}\n",
    "print(dict2)\n",
    "dict1.update(dict2)\n",
    "print(dict1)"
   ]
  },
  {
   "cell_type": "code",
   "execution_count": 59,
   "id": "3425189f-d5b1-48a9-95d5-7fab1582c4bf",
   "metadata": {},
   "outputs": [
    {
     "name": "stdout",
     "output_type": "stream",
     "text": [
      "dict_values(['Zara', '78', 'first', 'Male', 'Female', 'Yes'])\n"
     ]
    }
   ],
   "source": [
    "#values()method  - returns a list of all the values available in given dict\n",
    "print(dict1.values())"
   ]
  },
  {
   "cell_type": "code",
   "execution_count": 68,
   "id": "659377a8-816b-4dc6-8c7b-e05d839ed89f",
   "metadata": {},
   "outputs": [
    {
     "name": "stdout",
     "output_type": "stream",
     "text": [
      "{'Senior_citizen': 'Yes', 'Name': 'aar', 'Age': 7, 'Gender': 'Female'}\n"
     ]
    }
   ],
   "source": [
    "#merge dict1 and dict2 into dict 3\n",
    "dict1 = {'Name':'aar','Age':7}\n",
    "dict2={'Gender':'Female'}\n",
    "dict3={'Senior_citizen':'Yes'}\n",
    "dict3.update(dict1)\n",
    "dict3.update(dict2)\n",
    "print(dict3)"
   ]
  },
  {
   "cell_type": "code",
   "execution_count": 69,
   "id": "dbb2e0d5-f4d3-44e3-b7be-2c20173ab45a",
   "metadata": {},
   "outputs": [
    {
     "name": "stdout",
     "output_type": "stream",
     "text": [
      "a  name\n",
      "b  money\n",
      "c  value\n"
     ]
    }
   ],
   "source": [
    "dict1 = {'a':'name','b':'money','c':'value'}\n",
    "for key, values in dict1.items():\n",
    "    print(key,\"\", values)"
   ]
  },
  {
   "cell_type": "code",
   "execution_count": 70,
   "id": "7676bc85-8a21-42fa-b1da-2cd528a0a5ec",
   "metadata": {},
   "outputs": [
    {
     "name": "stdout",
     "output_type": "stream",
     "text": [
      "a\n",
      "b\n",
      "c\n",
      "name\n",
      "money\n",
      "value\n"
     ]
    }
   ],
   "source": [
    "dict1 = {'a':'name','b':'money','c':'value'}\n",
    "for i in dict1.keys():\n",
    "    print(i)\n",
    "for i in dict1.values():\n",
    "    print(i)"
   ]
  },
  {
   "cell_type": "code",
   "execution_count": 72,
   "id": "7fd5e2ad-9821-4ae3-810f-35800367d72b",
   "metadata": {},
   "outputs": [
    {
     "name": "stdout",
     "output_type": "stream",
     "text": [
      "{'a': 4, 'b': 7, 'c': 67, 'd': 5}\n",
      "[4, 5, 7, 67]\n",
      "{'a': 4, 'd': 5, 'b': 7, 'c': 67}\n"
     ]
    }
   ],
   "source": [
    "# sort dictionary by values\n",
    "dict1 = {'a': 4 ,'b':7, 'c':67,'d':5}\n",
    "print(dict1)\n",
    "ls = sorted(dict1.values())\n",
    "print(ls)\n",
    "dict2={}\n",
    "for i in ls:\n",
    "    for j in dict1.keys():\n",
    "        if dict1.get(j)==i:\n",
    "            dict2[j]=i\n",
    "print(dict2)\n",
    "        "
   ]
  },
  {
   "cell_type": "code",
   "execution_count": 77,
   "id": "59572bff-c2ea-4fe8-b1ce-8b4781269221",
   "metadata": {},
   "outputs": [
    {
     "name": "stdin",
     "output_type": "stream",
     "text": [
      "Enter the number for which the digits needed to be counted: 567\n"
     ]
    },
    {
     "name": "stdout",
     "output_type": "stream",
     "text": [
      "3\n"
     ]
    }
   ],
   "source": [
    "#count number of digits in input using while loop\n",
    "a=int(input(\"Enter the number for which the digits needed to be counted:\"))\n",
    "c=0\n",
    "while(a>=1):\n",
    "    c+=1\n",
    "    a=a/10\n",
    "print(c)"
   ]
  },
  {
   "cell_type": "code",
   "execution_count": 79,
   "id": "994e0966-ee3d-4d84-958b-8ade267d1fba",
   "metadata": {},
   "outputs": [
    {
     "name": "stdout",
     "output_type": "stream",
     "text": [
      "153\n",
      "370\n",
      "371\n",
      "407\n"
     ]
    }
   ],
   "source": [
    "#armstrong number - eg 153 = (1^3)+(5^3)+(3^3)\n",
    "#print all the armstrong numbers between 50 to 800\n",
    "\n",
    "\n",
    "def check_armstrong(n):\n",
    "    s=0\n",
    "    a1=n\n",
    "    a2=n\n",
    "    c=0\n",
    "    while(a1>=1):\n",
    "        c+=1\n",
    "        a1=a1/10\n",
    "\n",
    "    while(a2>=1):\n",
    "        s+=(a2%10)**c\n",
    "        a2=int(a2/10)\n",
    "    if s==n:\n",
    "        return True\n",
    "    else:\n",
    "        return False\n",
    "\n",
    "for i in range(50,800):\n",
    "    if check_armstrong(i):\n",
    "        print(i)"
   ]
  },
  {
   "cell_type": "code",
   "execution_count": 84,
   "id": "a3e2311a-dde1-41ed-8911-f4562b14a249",
   "metadata": {},
   "outputs": [
    {
     "name": "stdout",
     "output_type": "stream",
     "text": [
      "['A', 'C', 'T']\n",
      "They are anagrams\n"
     ]
    }
   ],
   "source": [
    "#anagram -  eg CAR - RAC, ACR, ARC\n",
    "#find anagram of input word\n",
    "a=\"CAT\"\n",
    "b=\"ACT\"\n",
    "c=sorted(a)\n",
    "print(c)\n",
    "d=sorted(b)\n",
    "if str(c) == str(d):\n",
    "    print(\"They are anagrams\")\n",
    "else:\n",
    "    print(\"Not anagrams\")\n",
    "\n",
    "\n"
   ]
  },
  {
   "cell_type": "code",
   "execution_count": 1,
   "id": "a45d6026-49a7-4047-b1f7-34cb3590e940",
   "metadata": {},
   "outputs": [
    {
     "name": "stdout",
     "output_type": "stream",
     "text": [
      "ABC\n",
      "ACB\n",
      "BAC\n",
      "BCA\n",
      "CBA\n",
      "CAB\n"
     ]
    }
   ],
   "source": [
    "#hw -- print all permutations and combinations of the string\n",
    "\n",
    "def permute(data, i, length):\n",
    "    if i == length:\n",
    "        print(''.join(data))\n",
    "    else:\n",
    "        for j in range(i, length):\n",
    "           \n",
    "            data[i], data[j] = data[j], data[i]\n",
    "            \n",
    "            permute(data, i + 1, length)\n",
    "            \n",
    "            data[i], data[j] = data[j], data[i]\n",
    "\n",
    "string = \"ABC\"\n",
    "permute(list(string), 0, len(string))\n"
   ]
  },
  {
   "cell_type": "code",
   "execution_count": 2,
   "id": "f0a909f9-8fd0-4e79-8877-00dcfe2eaf09",
   "metadata": {
    "collapsed": true,
    "jupyter": {
     "outputs_hidden": true
    }
   },
   "outputs": [
    {
     "name": "stdout",
     "output_type": "stream",
     "text": [
      "A\n",
      "B\n",
      "AB\n",
      "C\n",
      "AC\n",
      "BC\n",
      "ABC\n"
     ]
    }
   ],
   "source": [
    "def print_combinations(s):\n",
    "    n = len(s)\n",
    "    for i in range(1, 1 << n):\n",
    "        combo = [s[j] for j in range(n) if (i & (1 << j))]\n",
    "        print(''.join(combo))\n",
    "\n",
    "string = \"ABC\"\n",
    "print_combinations(string)"
   ]
  },
  {
   "cell_type": "code",
   "execution_count": null,
   "id": "4a613c04-16ba-4f7a-925b-e9b9101c9510",
   "metadata": {},
   "outputs": [],
   "source": []
  }
 ],
 "metadata": {
  "kernelspec": {
   "display_name": "Python 3 (ipykernel)",
   "language": "python",
   "name": "python3"
  },
  "language_info": {
   "codemirror_mode": {
    "name": "ipython",
    "version": 3
   },
   "file_extension": ".py",
   "mimetype": "text/x-python",
   "name": "python",
   "nbconvert_exporter": "python",
   "pygments_lexer": "ipython3",
   "version": "3.12.4"
  }
 },
 "nbformat": 4,
 "nbformat_minor": 5
}
