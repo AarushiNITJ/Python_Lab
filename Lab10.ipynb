{
 "cells": [
  {
   "cell_type": "code",
   "execution_count": 7,
   "id": "efd39f42-57bf-4f51-842b-168400de5f59",
   "metadata": {},
   "outputs": [
    {
     "name": "stdout",
     "output_type": "stream",
     "text": [
      "l\n",
      "l\n",
      "o\n"
     ]
    }
   ],
   "source": [
    "a= \"Hello World\"\n",
    "for i in range(2,5):\n",
    "    print (a[i])"
   ]
  },
  {
   "cell_type": "code",
   "execution_count": 8,
   "id": "3789ffc4-de17-4809-bb7e-d79d55a18937",
   "metadata": {},
   "outputs": [
    {
     "name": "stdout",
     "output_type": "stream",
     "text": [
      "o\n",
      "r\n",
      "l\n"
     ]
    }
   ],
   "source": [
    "#get the characters from o in world to d in world(not included)\n",
    "a= \"Hello World\"\n",
    "for i in range(7,10):\n",
    "    print (a[i])"
   ]
  },
  {
   "cell_type": "code",
   "execution_count": 12,
   "id": "61a5d79d-957b-49a3-93c8-8af0947b9230",
   "metadata": {},
   "outputs": [
    {
     "name": "stdout",
     "output_type": "stream",
     "text": [
      "o\n",
      "r\n",
      "l\n"
     ]
    }
   ],
   "source": [
    "a= \"Hello World\"\n",
    "for i in range(-4,-1):\n",
    "    print (a[i])"
   ]
  },
  {
   "cell_type": "code",
   "execution_count": 2,
   "id": "c31d8b28-aea8-4eab-ae84-715bc02872be",
   "metadata": {},
   "outputs": [
    {
     "name": "stdout",
     "output_type": "stream",
     "text": [
      "orl\n"
     ]
    }
   ],
   "source": [
    "a= \"Hello World\"\n",
    "print(a[-4:-1])"
   ]
  },
  {
   "cell_type": "code",
   "execution_count": 4,
   "id": "421fa237-8efa-4b28-9afe-eb29787c104c",
   "metadata": {},
   "outputs": [
    {
     "name": "stdout",
     "output_type": "stream",
     "text": [
      "Hello world\n"
     ]
    }
   ],
   "source": [
    "a=\"Hello\"\n",
    "b=\"world\"\n",
    "print(a[0:5]+\" \"+b[0:5])"
   ]
  },
  {
   "cell_type": "code",
   "execution_count": 6,
   "id": "de551951-e4f5-49ec-a214-ea10c43b0147",
   "metadata": {},
   "outputs": [
    {
     "name": "stdout",
     "output_type": "stream",
     "text": [
      "1 \n",
      "2 3 \n",
      "4 5 6 \n",
      "7 8 9 10 \n",
      "11 12 13 14 15 \n"
     ]
    }
   ],
   "source": [
    "c=1\n",
    "for i in range(1,6):\n",
    "    for j in range(i):\n",
    "        print(c,end=\" \")\n",
    "        c=c+1\n",
    "    print()"
   ]
  },
  {
   "cell_type": "code",
   "execution_count": null,
   "id": "e8d475ad-2546-45e0-bd18-e03a40ded480",
   "metadata": {},
   "outputs": [],
   "source": []
  },
  {
   "cell_type": "code",
   "execution_count": null,
   "id": "57425777-1b0c-46e5-b92d-591f09994471",
   "metadata": {},
   "outputs": [],
   "source": []
  }
 ],
 "metadata": {
  "kernelspec": {
   "display_name": "Python 3 (ipykernel)",
   "language": "python",
   "name": "python3"
  },
  "language_info": {
   "codemirror_mode": {
    "name": "ipython",
    "version": 3
   },
   "file_extension": ".py",
   "mimetype": "text/x-python",
   "name": "python",
   "nbconvert_exporter": "python",
   "pygments_lexer": "ipython3",
   "version": "3.12.4"
  }
 },
 "nbformat": 4,
 "nbformat_minor": 5
}
