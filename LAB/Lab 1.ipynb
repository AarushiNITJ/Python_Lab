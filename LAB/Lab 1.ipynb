{
 "cells": [
  {
   "cell_type": "code",
   "execution_count": 1,
   "id": "6413957d-18ea-415c-8639-42c3b48990e5",
   "metadata": {},
   "outputs": [
    {
     "name": "stdout",
     "output_type": "stream",
     "text": [
      "After converting character into integer: 52\n",
      "After converting 56 to hexadecimal string: 0x38\n",
      "After converting 56 to octal string: 0x38\n",
      "After converting string to tuple:('j', 'a', 'v', 'a', 'T', 'p', 'o', 'i', 'n', 't')\n",
      "After converting string to set:{'v', 'j', 'i', 'o', 't', 'p', 'n', 'a', 'T'}\n",
      "After converting string to list:['j', 'a', 'v', 'a', 'T', 'p', 'o', 'i', 'n', 't']\n"
     ]
    }
   ],
   "source": [
    "#type conversion\n",
    "\n",
    "a='4'\n",
    "b=ord(a)\n",
    "print(\"After converting character into integer: \",end=\"\")\n",
    "print(b)\n",
    "b=hex(56)\n",
    "print(\"After converting 56 to hexadecimal string: \",end=\"\")\n",
    "print(b)\n",
    "print(\"After converting 56 to octal string: \",end=\"\")\n",
    "print(b)\n",
    "\n",
    "\n",
    "x='javaTpoint'\n",
    "y=tuple(x)\n",
    "print(\"After converting string to tuple:\",end=\"\")\n",
    "print(y)\n",
    "\n",
    "y=set(x)\n",
    "print(\"After converting string to set:\",end=\"\")\n",
    "print(y)\n",
    "y=list(x)\n",
    "print(\"After converting string to list:\",end=\"\")\n",
    "print(y)\n"
   ]
  },
  {
   "cell_type": "code",
   "execution_count": 3,
   "id": "395de178-49c2-42fe-983a-cc97194e1b2d",
   "metadata": {},
   "outputs": [
    {
     "name": "stdout",
     "output_type": "stream",
     "text": [
      "add: 5\n",
      "diff: -1\n",
      "mul: 6\n",
      "div: 0.6666666666666666\n",
      "pow: 1\n"
     ]
    }
   ],
   "source": [
    "a=2\n",
    "b=3\n",
    "print(\"add:\",a+b) #addition\n",
    "print(\"diff:\",a-b) \n",
    "print(\"mul:\",a*b)\n",
    "print(\"div:\",a/b)\n",
    "print(\"pow:\",a^b)"
   ]
  },
  {
   "cell_type": "code",
   "execution_count": 4,
   "id": "3c13db22-6de4-4aa7-bd45-0b6f964a52d5",
   "metadata": {},
   "outputs": [
    {
     "name": "stdout",
     "output_type": "stream",
     "text": [
      "floor division: 0\n"
     ]
    }
   ],
   "source": [
    "print(\"floor division:\",a//b)"
   ]
  },
  {
   "cell_type": "code",
   "execution_count": 5,
   "id": "ec2ded08-19a6-4b04-be3d-4d75286ede85",
   "metadata": {},
   "outputs": [
    {
     "name": "stdout",
     "output_type": "stream",
     "text": [
      "modulo: 2\n"
     ]
    }
   ],
   "source": [
    "print(\"modulo:\",a%b)"
   ]
  },
  {
   "cell_type": "code",
   "execution_count": 6,
   "id": "eb7474cc-50d8-4a59-bf55-ea8439f301c5",
   "metadata": {},
   "outputs": [
    {
     "name": "stdout",
     "output_type": "stream",
     "text": [
      "15\n"
     ]
    }
   ],
   "source": [
    "a=10\n",
    "b=5\n",
    "a+=b #addition\n",
    "print(a)\n"
   ]
  },
  {
   "cell_type": "code",
   "execution_count": 7,
   "id": "631a4b60-1109-4abc-9765-bd2e31f9a6d4",
   "metadata": {},
   "outputs": [
    {
     "name": "stdout",
     "output_type": "stream",
     "text": [
      "10\n"
     ]
    }
   ],
   "source": [
    "a-=b #subtraction\n",
    "print(a)"
   ]
  },
  {
   "cell_type": "code",
   "execution_count": 8,
   "id": "1594ad39-7584-4402-b344-9c8a3496386b",
   "metadata": {},
   "outputs": [
    {
     "name": "stdout",
     "output_type": "stream",
     "text": [
      "50\n"
     ]
    }
   ],
   "source": [
    "a*=b #multiplication\n",
    "print(a)"
   ]
  },
  {
   "cell_type": "code",
   "execution_count": 9,
   "id": "cd9a1695-9550-4fdd-aab3-06207e363f9e",
   "metadata": {},
   "outputs": [
    {
     "name": "stdout",
     "output_type": "stream",
     "text": [
      "10.0\n"
     ]
    }
   ],
   "source": [
    "a/=b  #division\n",
    "print(a)"
   ]
  },
  {
   "cell_type": "code",
   "execution_count": 10,
   "id": "203b7035-ba65-4d78-9a70-1d12885db04b",
   "metadata": {},
   "outputs": [
    {
     "name": "stdout",
     "output_type": "stream",
     "text": [
      "0.0\n"
     ]
    }
   ],
   "source": [
    "a%=b  #remainder\n",
    "print(a)"
   ]
  },
  {
   "cell_type": "code",
   "execution_count": 12,
   "id": "dbeffde3-4bca-475f-a856-e3101915b51a",
   "metadata": {},
   "outputs": [
    {
     "name": "stdout",
     "output_type": "stream",
     "text": [
      "0.0\n"
     ]
    }
   ],
   "source": [
    "a**=b  #exponential\n",
    "print(a)"
   ]
  },
  {
   "cell_type": "code",
   "execution_count": 23,
   "id": "4cad0444-584b-4975-83a0-7a7c5ffd9b60",
   "metadata": {},
   "outputs": [
    {
     "name": "stdout",
     "output_type": "stream",
     "text": [
      "False\n",
      "True\n",
      "True\n",
      "False\n",
      "True\n",
      "False\n"
     ]
    }
   ],
   "source": [
    "# comparison operators\n",
    "\n",
    "print(a==b)\n",
    "print(a!=b)\n",
    "print(a<b)\n",
    "print(a>b)\n",
    "print(a<=b)\n",
    "print(a>=b)"
   ]
  },
  {
   "cell_type": "code",
   "execution_count": 27,
   "id": "67bacd78-8078-442e-b012-1de1820da042",
   "metadata": {},
   "outputs": [
    {
     "name": "stdout",
     "output_type": "stream",
     "text": [
      "False\n",
      "True\n"
     ]
    }
   ],
   "source": [
    "# logical operators\n",
    "\n",
    "a=5\n",
    "b=10\n",
    "print((a>2) and (b<6))\n",
    "print((a>2) or (b<6))\n"
   ]
  },
  {
   "cell_type": "code",
   "execution_count": 30,
   "id": "9eb1c0de-4c15-4376-b989-de4d39e634e5",
   "metadata": {},
   "outputs": [
    {
     "name": "stdout",
     "output_type": "stream",
     "text": [
      "False\n",
      "True\n",
      "False\n"
     ]
    }
   ],
   "source": [
    "#identity operators in python\n",
    "\n",
    "x1=5\n",
    "y1=5\n",
    "x2=\"hello\"\n",
    "y2=\"hello\"\n",
    "x3=[1,2,3]\n",
    "y3=[1,2,3]\n",
    "print(x1 is not y1)\n",
    "print(x2 is y2)\n",
    "print(x3 is y3)  #results false bcs the list refers to different objects in memory\n"
   ]
  },
  {
   "cell_type": "code",
   "execution_count": 32,
   "id": "6d495fd6-c651-456d-8615-44ea460f3bb6",
   "metadata": {},
   "outputs": [
    {
     "name": "stdout",
     "output_type": "stream",
     "text": [
      "140721285298776\n",
      "2400108246576\n",
      "True\n"
     ]
    }
   ],
   "source": [
    "x4=6\n",
    "y4=\"bye\"\n",
    "print(id(x4))\n",
    "print(id(y4))\n",
    "print(x4 is not y4)"
   ]
  },
  {
   "cell_type": "code",
   "execution_count": 35,
   "id": "e0ac65a8-911c-4cf3-a982-201b97ad2ab9",
   "metadata": {},
   "outputs": [
    {
     "name": "stdout",
     "output_type": "stream",
     "text": [
      "True\n",
      "True\n",
      "True\n",
      "False\n"
     ]
    }
   ],
   "source": [
    "#membership operators\n",
    "\n",
    "message='Hello world'\n",
    "dict1 = {1:'a' , 2:'b'}\n",
    "print('H' in message)\n",
    "print('hello' not in message)\n",
    "print(1 in dict1)\n",
    "print('a' in dict1)"
   ]
  },
  {
   "cell_type": "code",
   "execution_count": 41,
   "id": "0db7f0fa-640a-4888-868d-1ab968c9724b",
   "metadata": {},
   "outputs": [
    {
     "name": "stdout",
     "output_type": "stream",
     "text": [
      "lunch being delivered\n"
     ]
    }
   ],
   "source": [
    "meal=\"fruit\"\n",
    "money=0\n",
    "if meal==\"fruit\" or meal==\"sandwich\" and money>=2:    #and has more priority than or\n",
    "    print(\"lunch being delivered\")\n",
    "else:\n",
    "    print(\"cant deliver lunch\")"
   ]
  },
  {
   "cell_type": "code",
   "execution_count": 43,
   "id": "9bb7aff9-f9a9-4bf4-ab93-e837515925ec",
   "metadata": {},
   "outputs": [
    {
     "name": "stdout",
     "output_type": "stream",
     "text": [
      "cant deliver lunch\n"
     ]
    }
   ],
   "source": [
    "meal=\"fruit\"\n",
    "money=0\n",
    "if (meal==\"fruit\" or meal==\"sandwich\") and money>=2:   #bcz of paranthesis or operator is functioned easlier than and\n",
    "    print(\"lunch being delivered\")\n",
    "else:\n",
    "    print(\"cant deliver lunch\")"
   ]
  },
  {
   "cell_type": "code",
   "execution_count": 49,
   "id": "dba6c245-a7f2-4e90-9399-ccdc79483d70",
   "metadata": {},
   "outputs": [
    {
     "name": "stdout",
     "output_type": "stream",
     "text": [
      "3\n",
      "0\n"
     ]
    }
   ],
   "source": [
    "print(5*2//3)  #left -right associativity\n",
    "print(5*(2//3))"
   ]
  },
  {
   "cell_type": "code",
   "execution_count": 48,
   "id": "98858ff8-5ec3-430a-b7b5-8946f9eff358",
   "metadata": {},
   "outputs": [
    {
     "name": "stdout",
     "output_type": "stream",
     "text": [
      "512\n",
      "64\n"
     ]
    }
   ],
   "source": [
    "#exponent operator has right to left associativity in python\n",
    "\n",
    "print(2**3**2)\n",
    "print((2**3)**2)"
   ]
  },
  {
   "cell_type": "code",
   "execution_count": 52,
   "id": "39f68293-1413-490a-a985-580193c69a39",
   "metadata": {},
   "outputs": [],
   "source": [
    "#non associative operators\n",
    "# x<y<z is equivalent to x<y and y<z\n",
    "\n",
    "#initialize x,y,z\n",
    "x=y=z=1\n",
    "\n"
   ]
  },
  {
   "cell_type": "code",
   "execution_count": 53,
   "id": "8256c832-a796-42d0-a36f-d4ab6ad98fb1",
   "metadata": {},
   "outputs": [
    {
     "ename": "SyntaxError",
     "evalue": "invalid syntax (1438927886.py, line 1)",
     "output_type": "error",
     "traceback": [
      "\u001b[1;36m  Cell \u001b[1;32mIn[53], line 1\u001b[1;36m\u001b[0m\n\u001b[1;33m    x=y=z+=2\u001b[0m\n\u001b[1;37m         ^\u001b[0m\n\u001b[1;31mSyntaxError\u001b[0m\u001b[1;31m:\u001b[0m invalid syntax\n"
     ]
    }
   ],
   "source": [
    "x=y=z+=2"
   ]
  },
  {
   "cell_type": "code",
   "execution_count": 8,
   "id": "9a4b6968-f8f4-4720-98ca-19231572d9ff",
   "metadata": {},
   "outputs": [
    {
     "name": "stdout",
     "output_type": "stream",
     "text": [
      "3\n",
      "24\n"
     ]
    }
   ],
   "source": [
    "#bitwise operators\n",
    "\n",
    "a=12\n",
    "print(a>>2)\n",
    "print(a<<1)"
   ]
  },
  {
   "cell_type": "code",
   "execution_count": 7,
   "id": "9cb6ae3d-9edc-4281-8f79-ba8df44d67d1",
   "metadata": {},
   "outputs": [
    {
     "name": "stdout",
     "output_type": "stream",
     "text": [
      "22\n"
     ]
    }
   ],
   "source": [
    "#combinational\n",
    "a=16\n",
    "b=12\n",
    "c=a+(b>>1)\n",
    "print(c)"
   ]
  },
  {
   "cell_type": "code",
   "execution_count": 1,
   "id": "b8b1192c-da7a-4d6f-bc0f-81a06d08289c",
   "metadata": {},
   "outputs": [],
   "source": [
    "#wap to calc area of circle\n",
    "#wap to print digit at one's place of a number\n",
    "#wap to cal avg of 2 numbers nd print their deviation\n",
    "#wap to convert floating point number into corresponding integer\n",
    "#wap to convert int to corr floating point number\n",
    "#wap to convert degree fahrenheit to degree celsius\n"
   ]
  },
  {
   "cell_type": "code",
   "execution_count": 12,
   "id": "d504ce81-23c8-40e9-996a-ea73479d6770",
   "metadata": {},
   "outputs": [
    {
     "name": "stdin",
     "output_type": "stream",
     "text": [
      "Enter radius: 2\n"
     ]
    },
    {
     "name": "stdout",
     "output_type": "stream",
     "text": [
      "The area of circle with radius = 2 is 12.56\n"
     ]
    }
   ],
   "source": [
    "#question 1\n",
    "r = int(input(\"Enter radius:\"))\n",
    "a = float(3.14*(r**2))\n",
    "print(\"The area of circle with radius =\",r,\"is\",a)"
   ]
  },
  {
   "cell_type": "code",
   "execution_count": 14,
   "id": "74b168f7-bd88-476e-8ffb-b0f69c014354",
   "metadata": {},
   "outputs": [
    {
     "name": "stdin",
     "output_type": "stream",
     "text": [
      "Enter any number: 265\n"
     ]
    },
    {
     "name": "stdout",
     "output_type": "stream",
     "text": [
      "The digit at one's place of 265 is 5\n"
     ]
    }
   ],
   "source": [
    "#ques 2\n",
    "n = int(input(\"Enter any number:\"))\n",
    "d=n%10\n",
    "print(\"The digit at one's place of\",n,\"is\",d)"
   ]
  },
  {
   "cell_type": "code",
   "execution_count": 16,
   "id": "1add645a-771a-4732-8d4f-6e5122cf46a8",
   "metadata": {},
   "outputs": [
    {
     "name": "stdin",
     "output_type": "stream",
     "text": [
      "Enter the first number: 5\n",
      "Enter the second number: 6\n"
     ]
    },
    {
     "name": "stdout",
     "output_type": "stream",
     "text": [
      "Average = 5.5\n",
      "The deviation of first number = 0.5\n",
      "The deviation of second number = -0.5\n"
     ]
    }
   ],
   "source": [
    "#ques 3\n",
    "num1 = int(input(\"Enter the first number:\"))\n",
    "num2 = int(input(\"Enter the second number:\"))\n",
    "avg = (num1+num2)/2\n",
    "print(\"Average =\",avg)\n",
    "dev1 = avg - num1\n",
    "dev2 = avg - num2\n",
    "print(\"The deviation of first number =\",dev1)\n",
    "print(\"The deviation of second number =\",dev2)"
   ]
  },
  {
   "cell_type": "code",
   "execution_count": 23,
   "id": "72536d7a-5652-4ccf-bf51-593ef6c24fe1",
   "metadata": {},
   "outputs": [
    {
     "name": "stdout",
     "output_type": "stream",
     "text": [
      "The type before conversion is : <class 'float'>\n",
      "The value before conversion is : 3.56\n",
      "The type after conversion is : <class 'int'>\n",
      "The value after conversion is : 3\n"
     ]
    }
   ],
   "source": [
    "#ques 4\n",
    "n = 3.56\n",
    "print(\"The type before conversion is :\",type(n))\n",
    "print(\"The value before conversion is :\",n)\n",
    "n = int(n)\n",
    "print(\"The type after conversion is :\",type(n))\n",
    "print(\"The value after conversion is :\",n)"
   ]
  },
  {
   "cell_type": "code",
   "execution_count": 2,
   "id": "8d778157-8f82-4a9a-9c1d-5cd0c1ac15d5",
   "metadata": {},
   "outputs": [
    {
     "name": "stdin",
     "output_type": "stream",
     "text": [
      "Enter a number: 4\n"
     ]
    },
    {
     "name": "stdout",
     "output_type": "stream",
     "text": [
      "The type before conversion is: <class 'int'>\n",
      "The value before conversion is: 4\n",
      "The type after conversion is: <class 'float'>\n",
      "The value after conversion is: 4.0\n"
     ]
    }
   ],
   "source": [
    "#ques 5\n",
    "n = int(input(\"Enter a number:\"))\n",
    "print(\"The type before conversion is:\",type(n))\n",
    "print(\"The value before conversion is:\",n)\n",
    "n = float(n)\n",
    "print(\"The type after conversion is:\",type(n))\n",
    "print(\"The value after conversion is:\",n)\n"
   ]
  },
  {
   "cell_type": "code",
   "execution_count": 1,
   "id": "66b4d317-255b-4336-9e91-431bb8978399",
   "metadata": {},
   "outputs": [
    {
     "name": "stdin",
     "output_type": "stream",
     "text": [
      "Enter temperature in Fahrenheit: 54\n"
     ]
    },
    {
     "name": "stdout",
     "output_type": "stream",
     "text": [
      "Temperature in celsius =  12.222222222222221\n"
     ]
    }
   ],
   "source": [
    "#ques 6\n",
    "fahrenheit = float(input(\"Enter temperature in Fahrenheit:\"))\n",
    "Celsius =(fahrenheit - 32) * 5 / 9\n",
    "print(\"Temperature in celsius = \" , Celsius)"
   ]
  },
  {
   "cell_type": "code",
   "execution_count": null,
   "id": "170ce8b6-e1af-4d4b-af27-5a6ad69b5249",
   "metadata": {},
   "outputs": [],
   "source": []
  }
 ],
 "metadata": {
  "kernelspec": {
   "display_name": "Python 3 (ipykernel)",
   "language": "python",
   "name": "python3"
  },
  "language_info": {
   "codemirror_mode": {
    "name": "ipython",
    "version": 3
   },
   "file_extension": ".py",
   "mimetype": "text/x-python",
   "name": "python",
   "nbconvert_exporter": "python",
   "pygments_lexer": "ipython3",
   "version": "3.12.4"
  }
 },
 "nbformat": 4,
 "nbformat_minor": 5
}
