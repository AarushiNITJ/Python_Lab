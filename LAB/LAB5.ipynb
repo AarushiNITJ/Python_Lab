{
 "cells": [
  {
   "cell_type": "code",
   "execution_count": 4,
   "id": "0ab04515-99a7-43db-b28b-955ffbe5083a",
   "metadata": {},
   "outputs": [
    {
     "name": "stdout",
     "output_type": "stream",
     "text": [
      "initial array:\n",
      "1 2 3 4 5 6 7 8 9 10 sliicif elelments in range[3:8] :\n",
      "array('i', [4, 5, 6, 7, 8])\n",
      "\n",
      "elements sliced from 5th element till the end\n",
      "array('i', [6, 7, 8, 9, 10])\n",
      "printing all elements using slice operation:\n",
      "array('i', [1, 2, 3, 4, 5, 6, 7, 8, 9, 10])\n"
     ]
    }
   ],
   "source": [
    "import array as arr\n",
    "l=[1,2,3,4,5,6,7,8,9,10]\n",
    "a=arr.array('i',l)\n",
    "print(\"initial array:\")\n",
    "for i in (a):\n",
    "    print(i,end=\" \")\n",
    "sliced_array=a[3:8]\n",
    "print(\"sliicif elelments in range[3:8] :\")\n",
    "print(sliced_array)\n",
    "sliced_array=a[5:]\n",
    "print(\"\\nelements sliced from 5th element till the end\")\n",
    "print(sliced_array)\n",
    "sliced_array=a[:]\n",
    "print(\"printing all elements using slice operation:\")\n",
    "print(sliced_array)"
   ]
  },
  {
   "cell_type": "code",
   "execution_count": 5,
   "id": "07d7e7e2-615a-45eb-a81d-cc3d8b61d701",
   "metadata": {},
   "outputs": [
    {
     "name": "stdout",
     "output_type": "stream",
     "text": [
      "the new created array is: 1 2 3 1 2 5 \n",
      "The index of 1st occurrence of 2 is: 1\n"
     ]
    }
   ],
   "source": [
    "import array\n",
    "arr=array.array('i',[1,2,3,1,2,5])\n",
    "print(\"the new created array is:\",end=\" \")\n",
    "for i in range(0,6):\n",
    "    print(arr[i],end=\" \")\n",
    "print(\"\\r\")\n",
    "print(\"The index of 1st occurrence of 2 is:\",end=\" \")\n",
    "print(arr.index(2))"
   ]
  },
  {
   "cell_type": "code",
   "execution_count": 6,
   "id": "9d7bfea2-dd85-43ac-af37-35d4fd43bdb8",
   "metadata": {},
   "outputs": [
    {
     "name": "stdout",
     "output_type": "stream",
     "text": [
      "array before updation: 1 2 3 1 2 5 \n",
      "array after updation: 1 2 6 1 2 5 \n",
      "array after updation: 1 2 6 1 8 5 "
     ]
    }
   ],
   "source": [
    "import array\n",
    "arr=array.array('i',[1,2,3,1,2,5])\n",
    "print(\"array before updation:\", end=\" \")\n",
    "for i in range(0,6):\n",
    "    print(arr[i], end =\" \")\n",
    "print(\"\\r\")\n",
    "arr[2]=6\n",
    "print(\"array after updation:\", end=\" \")\n",
    "for i in range(0,6):\n",
    "    print(arr[i], end =\" \")\n",
    "print()\n",
    "arr[4]=8\n",
    "print(\"array after updation:\", end=\" \")\n",
    "for i in range(0,6):\n",
    "    print(arr[i], end =\" \")\n",
    "\n",
    "\n"
   ]
  },
  {
   "cell_type": "code",
   "execution_count": 8,
   "id": "df857bdb-b033-4d5e-9ba9-91113f242a0e",
   "metadata": {},
   "outputs": [
    {
     "name": "stdout",
     "output_type": "stream",
     "text": [
      "no. of occurrence of 2: 2\n"
     ]
    }
   ],
   "source": [
    "#COUNT\n",
    "\n",
    "import array\n",
    "my_array = array.array('i',[1,2,3,1,2,5])\n",
    "count = my_array.count(2)\n",
    "print(\"no. of occurrence of 2:\", count)"
   ]
  },
  {
   "cell_type": "code",
   "execution_count": 10,
   "id": "5b83b773-b1f3-4242-9102-c4bf3cfcfd7d",
   "metadata": {},
   "outputs": [
    {
     "name": "stdout",
     "output_type": "stream",
     "text": [
      "['amy', 'sap', 'nap', 'rohan']\n"
     ]
    }
   ],
   "source": [
    "#SORT A LIST ACC TO LENGTH\n",
    "\n",
    "def Sorting(lst):\n",
    "    lst2= sorted(lst,key=len)\n",
    "    return lst2\n",
    "lst=[\"rohan\",\"amy\",\"sap\",\"nap\"]\n",
    "print(Sorting(lst))"
   ]
  },
  {
   "cell_type": "code",
   "execution_count": 21,
   "id": "fc9399c9-2454-4737-8b30-fa1c7ae96e5a",
   "metadata": {},
   "outputs": [
    {
     "name": "stdout",
     "output_type": "stream",
     "text": [
      "Original list [64, 34, 25, 12, 22, 11, 90]\n",
      "[11, 12, 22, 25, 34, 64, 90]\n"
     ]
    }
   ],
   "source": [
    "#BUBBLE SORT\n",
    "\n",
    "def bubble_sort(arr):\n",
    "    n =len(arr)\n",
    "    for i in range(n):\n",
    "        for j in range(0,n-i-1):\n",
    "            if arr[j]>arr[j+1]:\n",
    "                arr[j],arr[j+1]=arr[j+1],arr[j]\n",
    "if __name__==\"__main__\":\n",
    "    sample_list=[64,34,25,12,22,11,90]\n",
    "    print(\"Original list\",sample_list)\n",
    "    bubble_sort(sample_list)\n",
    "    print(sample_list)\n",
    "        "
   ]
  },
  {
   "cell_type": "code",
   "execution_count": 22,
   "id": "1101f0ff-5518-4fdc-9614-bb0ff0d4d9a3",
   "metadata": {},
   "outputs": [
    {
     "name": "stdout",
     "output_type": "stream",
     "text": [
      "Initial empty tuple:\n",
      "()\n",
      "\n",
      "Tuple with use of string:\n",
      "('Hello', 'Sam')\n",
      "\n",
      "Tuple with use of list:\n",
      "(1, 2, 3, 4, 5)\n",
      "\n",
      "Tuple with use of built-in function:\n",
      "('S', 'a', 'm')\n"
     ]
    }
   ],
   "source": [
    "#Creating an empty tuple\n",
    "Tuple1 =()\n",
    "print(\"Initial empty tuple:\")\n",
    "print(Tuple1)\n",
    "\n",
    "#creating a tuple\n",
    "#with use of string\n",
    "Tuple1=('Hello','Sam')\n",
    "print(\"\\nTuple with use of string:\")\n",
    "print(Tuple1)\n",
    "\n",
    "#creating a tuple\n",
    "#with use of list\n",
    "list1=[1,2,3,4,5]\n",
    "print(\"\\nTuple with use of list:\")\n",
    "print(tuple(list1))\n",
    "\n",
    "#creating a tuple\n",
    "#with the use of built-in function\n",
    "Tuple1=tuple('Sam')\n",
    "print(\"\\nTuple with use of built-in function:\")\n",
    "print(Tuple1)\n",
    "\n"
   ]
  },
  {
   "cell_type": "code",
   "execution_count": 29,
   "id": "ad429df9-045b-4562-b253-751cd00a2b5c",
   "metadata": {},
   "outputs": [
    {
     "name": "stdout",
     "output_type": "stream",
     "text": [
      "\n",
      "Tuple with mixed datatypes:\n",
      "(5, 'wel', 7, 'plea')\n",
      "\n",
      "Tuple with nested tuples:\n",
      "((0, 1, 2, 3), ('python', 'course'))\n",
      "\n",
      "Tuple with repetition:\n",
      "('Sam', 'Sam', 'Sam')\n",
      "\n",
      "Tuple with a loop\n",
      "('Sam',)\n",
      "(('Sam',),)\n",
      "((('Sam',),),)\n",
      "(((('Sam',),),),)\n",
      "((((('Sam',),),),),)\n"
     ]
    }
   ],
   "source": [
    "#Creating a tuple with mixed datatypes\n",
    "Tuple1=(5,'wel',7,'plea')\n",
    "print(\"\\nTuple with mixed datatypes:\")\n",
    "print(Tuple1)\n",
    "\n",
    "#Creating a tuple with nested tuples\n",
    "Tuple1=(0,1,2,3)\n",
    "Tuple2=('python', 'course')\n",
    "Tuple3=(Tuple1,Tuple2)\n",
    "print(\"\\nTuple with nested tuples:\")\n",
    "print(Tuple3)\n",
    "\n",
    "#Creating a tuple with repetition\n",
    "Tuple1=('Sam',)*3\n",
    "print(\"\\nTuple with repetition:\")\n",
    "print(Tuple1)\n",
    "\n",
    "#CREATING A TUPLE with the use of loop\n",
    "Tuple1=('Sam')\n",
    "n=5\n",
    "print(\"\\nTuple with a loop\")\n",
    "for i in range(int(n)):\n",
    "    Tuple1=(Tuple1,)\n",
    "    print(Tuple1)\n",
    "\n",
    "\n"
   ]
  },
  {
   "cell_type": "code",
   "execution_count": 31,
   "id": "03b119ae-d63e-4f86-b972-d313b7337047",
   "metadata": {},
   "outputs": [
    {
     "name": "stdout",
     "output_type": "stream",
     "text": [
      "\n",
      "First element of tuple:\n",
      "S\n",
      "\n",
      "Values after unpacking:\n",
      "Sam\n",
      "is\n",
      "dancing\n"
     ]
    }
   ],
   "source": [
    "#Assessing tuple with indexing\n",
    "Tuple1=tuple(\"Sam\")\n",
    "print(\"\\nFirst element of tuple:\")\n",
    "print(Tuple1[0])\n",
    "\n",
    "#Tuple unpacking\n",
    "Tuple1=(\"Sam\",\"is\",\"dancing\")\n",
    "a,b,c=Tuple1\n",
    "print(\"\\nValues after unpacking:\")\n",
    "print(a)\n",
    "print(b)\n",
    "print(c)"
   ]
  },
  {
   "cell_type": "code",
   "execution_count": 32,
   "id": "9f776312-29ca-46b6-bdb9-7681e9cfa737",
   "metadata": {},
   "outputs": [
    {
     "name": "stdout",
     "output_type": "stream",
     "text": [
      "Tuple1:\n",
      "(0, 1, 2, 3)\n",
      "\n",
      "Tuple2:\n",
      "('Sam', 'is', 'Studying')\n",
      "\n",
      "Tuples after concatenation:\n",
      "(0, 1, 2, 3, 'Sam', 'is', 'Studying')\n"
     ]
    }
   ],
   "source": [
    "#concatenation of tuples\n",
    "Tuple1=(0,1,2,3)\n",
    "Tuple2=('Sam','is','Studying')\n",
    "Tuple3=Tuple1+Tuple2\n",
    "print(\"Tuple1:\")\n",
    "print(Tuple1)\n",
    "print(\"\\nTuple2:\")\n",
    "print(Tuple2)\n",
    "print(\"\\nTuples after concatenation:\")\n",
    "print(Tuple3)\n",
    "\n"
   ]
  },
  {
   "cell_type": "code",
   "execution_count": 35,
   "id": "46ee44ad-7073-4d23-bcb5-eeb0fca7ead5",
   "metadata": {},
   "outputs": [
    {
     "name": "stdout",
     "output_type": "stream",
     "text": [
      "Removal of first element:\n",
      "('R', 'A', 'N', 'S', 'F', 'O', 'R', 'M', 'E', 'R', 'S')\n",
      "\n",
      "Tuple after sequence of element in reverse:\n",
      "('S', 'R', 'E', 'M', 'R', 'O', 'F', 'S', 'N', 'A', 'R', 'T')\n",
      "\n",
      "Printing elements between range2-5:\n",
      "('A', 'N', 'S')\n"
     ]
    }
   ],
   "source": [
    "#slicing of tuple\n",
    "#slicing of tuple with numbers\n",
    "Tuple1=tuple('TRANSFORMERS')\n",
    "#removing first element\n",
    "print(\"Removal of first element:\")\n",
    "print(Tuple1[1:])\n",
    "#reversing the tuple\n",
    "print(\"\\nTuple after sequence of element in reverse:\")\n",
    "print(Tuple1[::-1])\n",
    "#printing tuples of a range\n",
    "print(\"\\nPrinting elements between range2-5:\")\n",
    "print(Tuple1[2:5])"
   ]
  },
  {
   "cell_type": "code",
   "execution_count": 38,
   "id": "6e7de050-e584-46e2-906d-b5f5bbfee7b2",
   "metadata": {},
   "outputs": [
    {
     "ename": "NameError",
     "evalue": "name 'Tuple1' is not defined",
     "output_type": "error",
     "traceback": [
      "\u001b[1;31m---------------------------------------------------------------------------\u001b[0m",
      "\u001b[1;31mNameError\u001b[0m                                 Traceback (most recent call last)",
      "Cell \u001b[1;32mIn[38], line 5\u001b[0m\n\u001b[0;32m      3\u001b[0m Tuple1\u001b[38;5;241m=\u001b[39m(\u001b[38;5;241m0\u001b[39m,\u001b[38;5;241m1\u001b[39m,\u001b[38;5;241m2\u001b[39m,\u001b[38;5;241m3\u001b[39m,\u001b[38;5;241m4\u001b[39m)\n\u001b[0;32m      4\u001b[0m \u001b[38;5;28;01mdel\u001b[39;00m Tuple1\n\u001b[1;32m----> 5\u001b[0m \u001b[38;5;28mprint\u001b[39m(\u001b[43mTuple1\u001b[49m)\n",
      "\u001b[1;31mNameError\u001b[0m: name 'Tuple1' is not defined"
     ]
    }
   ],
   "source": [
    "#tuples are immutable and hence donot allow deletion of a part of it.\n",
    "#deleting a tuple\n",
    "Tuple1=(0,1,2,3,4)\n",
    "del Tuple1\n",
    "print(Tuple1)"
   ]
  },
  {
   "cell_type": "code",
   "execution_count": 42,
   "id": "ac8cf7fa-427e-4f31-82f4-cac745989723",
   "metadata": {},
   "outputs": [
    {
     "name": "stdout",
     "output_type": "stream",
     "text": [
      "Highest marks= 99\n",
      "lowest marks= 82\n"
     ]
    }
   ],
   "source": [
    "#HOW MANY WAYS ARE THERE TO ASSIGN A TUPLE\n",
    "#Program to return the highest and lowest values in the list\n",
    "def max_min(vals):\n",
    "    x=max(vals)\n",
    "    y=min(vals)\n",
    "    return(x,y)\n",
    "vals=(99,98.90,97,89,86,93,82)\n",
    "(max_marks,min_marks)=max_min(vals)\n",
    "print(\"Highest marks=\",max_marks)\n",
    "print(\"lowest marks=\",min_marks)"
   ]
  },
  {
   "cell_type": "code",
   "execution_count": 48,
   "id": "417c3a49-10fe-4beb-a9ac-91f48e069fe0",
   "metadata": {},
   "outputs": [
    {
     "name": "stdout",
     "output_type": "stream",
     "text": [
      "('Arnav', 'BSC', 92.6)\n",
      "('CHAI', 'BCA', 65)\n"
     ]
    }
   ],
   "source": [
    "#nested tuples\n",
    "Toppers=((\"Arnav\",\"BSC\",92.6),(\"CHAI\",\"BCA\",65))\n",
    "for i in Toppers:\n",
    "    print(i)"
   ]
  },
  {
   "cell_type": "code",
   "execution_count": 49,
   "id": "4905f27b-b36d-445b-be15-b9194457a223",
   "metadata": {},
   "outputs": [
    {
     "name": "stdout",
     "output_type": "stream",
     "text": [
      "Class Topper: janvi\n",
      "Highest scores in 4 subjects: ([94, 95, 96, 97],)\n"
     ]
    }
   ],
   "source": [
    "#WAP to print name of topper and her marks in 4 subjects wherein the marks are specified in a list\n",
    "Topper=(\"janvi\",[94,95,96,97])\n",
    "print(\"Class Topper:\",Topper[0])\n",
    "print(\"Highest scores in 4 subjects:\",Topper[1:])"
   ]
  },
  {
   "cell_type": "code",
   "execution_count": 1,
   "id": "e10ce77d-450a-450f-9ba0-8b3f74539c76",
   "metadata": {},
   "outputs": [
    {
     "ename": "SyntaxError",
     "evalue": "invalid syntax (3280188006.py, line 2)",
     "output_type": "error",
     "traceback": [
      "\u001b[1;36m  Cell \u001b[1;32mIn[1], line 2\u001b[1;36m\u001b[0m\n\u001b[1;33m    for in in range(len(thistuple)):\u001b[0m\n\u001b[1;37m        ^\u001b[0m\n\u001b[1;31mSyntaxError\u001b[0m\u001b[1;31m:\u001b[0m invalid syntax\n"
     ]
    }
   ],
   "source": [
    "thistuple=(\"apple\",\",mango\",\"cheery\")\n",
    "for in in range(len(thistuple)):\n",
    "print(thistuple[i])\n"
   ]
  },
  {
   "cell_type": "code",
   "execution_count": null,
   "id": "7068c419-f816-47cb-b751-58aa905b82d7",
   "metadata": {},
   "outputs": [],
   "source": [
    "# Initial nested list with toppers' details\n",
    "toppers = [\n",
    "    [\"Alice\", 95, \"Math\"],\n",
    "    [\"Bob\", 90, \"Science\"],\n",
    "    [\"Charlie\", 92, \"English\"]\n",
    "]\n",
    "\n",
    "# Function to print the details\n",
    "def print_details(toppers):\n",
    "    print(\"Toppers' Details:\")\n",
    "    for topper in toppers:\n",
    "        print(f\"Name: {topper[0]}, Score: {topper[1]}, Subject: {topper[2]}\")\n",
    "\n",
    "# Function to edit the details\n",
    "def edit_details(toppers, name, new_score, new_subject):\n",
    "    for topper in toppers:\n",
    "        if topper[0] == name:\n",
    "            topper[1] = new_score\n",
    "            topper[2] = new_subject\n",
    "            break\n",
    "\n",
    "# Print initial details\n",
    "print_details(toppers)\n",
    "\n",
    "# Edit details of a topper\n",
    "edit_details(toppers, \"Bob\", 93, \"Physics\")\n",
    "\n",
    "# Print updated details\n",
    "print(\"\\nUpdated Details:\")\n",
    "print_details(toppers)\n"
   ]
  }
 ],
 "metadata": {
  "kernelspec": {
   "display_name": "Python 3 (ipykernel)",
   "language": "python",
   "name": "python3"
  },
  "language_info": {
   "codemirror_mode": {
    "name": "ipython",
    "version": 3
   },
   "file_extension": ".py",
   "mimetype": "text/x-python",
   "name": "python",
   "nbconvert_exporter": "python",
   "pygments_lexer": "ipython3",
   "version": "3.12.4"
  }
 },
 "nbformat": 4,
 "nbformat_minor": 5
}
