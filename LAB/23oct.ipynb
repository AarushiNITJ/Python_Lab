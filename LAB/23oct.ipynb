{
 "cells": [
  {
   "cell_type": "code",
   "execution_count": 14,
   "id": "a2bb2e95-1a4d-4f01-a8d3-3a29d2bc5a15",
   "metadata": {},
   "outputs": [
    {
     "name": "stdout",
     "output_type": "stream",
     "text": [
      "WELCOME TO THE WORLD OF PYTHON\n",
      "welcome to the world of python\n",
      "['Welcome', 'to', 'the', 'world', 'of', 'python']\n",
      "Welcome to the world of python\n",
      "3\n",
      "Welcome ho hhe world of pyhhon\n",
      "8\n"
     ]
    }
   ],
   "source": [
    "#WAP that uses different methods like upper,lower,split,join,count,replace,find on string object\n",
    "\n",
    "str=\"Welcome to the world of python\"\n",
    "print(str.upper())\n",
    "print(str.lower())\n",
    "a=str.split(' ')\n",
    "print(a)\n",
    "print(' '.join(a))\n",
    "print(str.count('t'))\n",
    "print(str.replace('t','h'))\n",
    "print(str.find('to'))\n",
    "\n"
   ]
  },
  {
   "cell_type": "code",
   "execution_count": 15,
   "id": "86faeef0-d65e-4d49-9619-c53f0aaa23f7",
   "metadata": {},
   "outputs": [
    {
     "data": {
      "text/plain": [
       "['__add__',\n",
       " '__class__',\n",
       " '__contains__',\n",
       " '__delattr__',\n",
       " '__dir__',\n",
       " '__doc__',\n",
       " '__eq__',\n",
       " '__format__',\n",
       " '__ge__',\n",
       " '__getattribute__',\n",
       " '__getitem__',\n",
       " '__getnewargs__',\n",
       " '__getstate__',\n",
       " '__gt__',\n",
       " '__hash__',\n",
       " '__init__',\n",
       " '__init_subclass__',\n",
       " '__iter__',\n",
       " '__le__',\n",
       " '__len__',\n",
       " '__lt__',\n",
       " '__mod__',\n",
       " '__mul__',\n",
       " '__ne__',\n",
       " '__new__',\n",
       " '__reduce__',\n",
       " '__reduce_ex__',\n",
       " '__repr__',\n",
       " '__rmod__',\n",
       " '__rmul__',\n",
       " '__setattr__',\n",
       " '__sizeof__',\n",
       " '__str__',\n",
       " '__subclasshook__',\n",
       " 'capitalize',\n",
       " 'casefold',\n",
       " 'center',\n",
       " 'count',\n",
       " 'encode',\n",
       " 'endswith',\n",
       " 'expandtabs',\n",
       " 'find',\n",
       " 'format',\n",
       " 'format_map',\n",
       " 'index',\n",
       " 'isalnum',\n",
       " 'isalpha',\n",
       " 'isascii',\n",
       " 'isdecimal',\n",
       " 'isdigit',\n",
       " 'isidentifier',\n",
       " 'islower',\n",
       " 'isnumeric',\n",
       " 'isprintable',\n",
       " 'isspace',\n",
       " 'istitle',\n",
       " 'isupper',\n",
       " 'join',\n",
       " 'ljust',\n",
       " 'lower',\n",
       " 'lstrip',\n",
       " 'maketrans',\n",
       " 'partition',\n",
       " 'removeprefix',\n",
       " 'removesuffix',\n",
       " 'replace',\n",
       " 'rfind',\n",
       " 'rindex',\n",
       " 'rjust',\n",
       " 'rpartition',\n",
       " 'rsplit',\n",
       " 'rstrip',\n",
       " 'split',\n",
       " 'splitlines',\n",
       " 'startswith',\n",
       " 'strip',\n",
       " 'swapcase',\n",
       " 'title',\n",
       " 'translate',\n",
       " 'upper',\n",
       " 'zfill']"
      ]
     },
     "execution_count": 15,
     "metadata": {},
     "output_type": "execute_result"
    }
   ],
   "source": [
    "dir(str)"
   ]
  },
  {
   "cell_type": "code",
   "execution_count": 20,
   "id": "b69af628-0b9d-4c8d-a209-bb5a00e3781e",
   "metadata": {},
   "outputs": [
    {
     "ename": "AttributeError",
     "evalue": "module 'string' has no attribute 'find'",
     "output_type": "error",
     "traceback": [
      "\u001b[1;31m---------------------------------------------------------------------------\u001b[0m",
      "\u001b[1;31mAttributeError\u001b[0m                            Traceback (most recent call last)",
      "Cell \u001b[1;32mIn[20], line 2\u001b[0m\n\u001b[0;32m      1\u001b[0m \u001b[38;5;28;01mimport\u001b[39;00m \u001b[38;5;21;01mstring\u001b[39;00m\n\u001b[1;32m----> 2\u001b[0m \u001b[38;5;28mprint\u001b[39m(\u001b[43mstring\u001b[49m\u001b[38;5;241;43m.\u001b[39;49m\u001b[43mfind\u001b[49m(string\u001b[38;5;241m.\u001b[39mlowercase,\u001b[38;5;124m'\u001b[39m\u001b[38;5;124mg\u001b[39m\u001b[38;5;124m'\u001b[39m)\u001b[38;5;241m!=\u001b[39m\u001b[38;5;241m-\u001b[39m\u001b[38;5;241m1\u001b[39m)\n",
      "\u001b[1;31mAttributeError\u001b[0m: module 'string' has no attribute 'find'"
     ]
    }
   ],
   "source": [
    "import string\n",
    "print(string.find(string.lowercase,'g')!=-1)\n"
   ]
  },
  {
   "cell_type": "code",
   "execution_count": 29,
   "id": "dd6cf2fc-1913-4598-a9b9-fa743eb0f0ea",
   "metadata": {},
   "outputs": [
    {
     "name": "stdout",
     "output_type": "stream",
     "text": [
      "True\n"
     ]
    }
   ],
   "source": [
    "import string\n",
    "print('g' in string.ascii_lowercase)"
   ]
  },
  {
   "cell_type": "code",
   "execution_count": 22,
   "id": "f2c7ec74-d28e-436f-9a4e-26fe6dd56c35",
   "metadata": {},
   "outputs": [
    {
     "name": "stdout",
     "output_type": "stream",
     "text": [
      "abcdefghijklmnopqrstuvwxyzABCDEFGHIJKLMNOPQRSTUVWXYZ\n"
     ]
    }
   ],
   "source": [
    "import string\n",
    "print(string.ascii_letters)"
   ]
  },
  {
   "cell_type": "code",
   "execution_count": 25,
   "id": "13ec4a6c-1961-4666-b623-10c94b957442",
   "metadata": {},
   "outputs": [
    {
     "ename": "AttributeError",
     "evalue": "module 'string' has no attribute 'find'",
     "output_type": "error",
     "traceback": [
      "\u001b[1;31m---------------------------------------------------------------------------\u001b[0m",
      "\u001b[1;31mAttributeError\u001b[0m                            Traceback (most recent call last)",
      "Cell \u001b[1;32mIn[25], line 3\u001b[0m\n\u001b[0;32m      1\u001b[0m \u001b[38;5;28;01mimport\u001b[39;00m \u001b[38;5;21;01mstring\u001b[39;00m\n\u001b[0;32m      2\u001b[0m \u001b[38;5;28mtype\u001b[39m(string\u001b[38;5;241m.\u001b[39mdigits)\n\u001b[1;32m----> 3\u001b[0m \u001b[38;5;28mprint\u001b[39m(\u001b[43mstring\u001b[49m\u001b[38;5;241;43m.\u001b[39;49m\u001b[43mfind\u001b[49m(string\u001b[38;5;241m.\u001b[39mlowercase,\u001b[38;5;124m'\u001b[39m\u001b[38;5;124mg\u001b[39m\u001b[38;5;124m'\u001b[39m)\u001b[38;5;241m!=\u001b[39m\u001b[38;5;241m-\u001b[39m\u001b[38;5;241m1\u001b[39m)\n",
      "\u001b[1;31mAttributeError\u001b[0m: module 'string' has no attribute 'find'"
     ]
    }
   ],
   "source": [
    "import string\n",
    "type(string.digits)\n",
    "print(string.find(string.lowercase,'g')!=-1)"
   ]
  },
  {
   "cell_type": "code",
   "execution_count": 26,
   "id": "305a6ca3-edc3-4cac-ba05-311554b7f751",
   "metadata": {},
   "outputs": [
    {
     "ename": "AttributeError",
     "evalue": "module 'string' has no attribute 'lowercase'",
     "output_type": "error",
     "traceback": [
      "\u001b[1;31m---------------------------------------------------------------------------\u001b[0m",
      "\u001b[1;31mAttributeError\u001b[0m                            Traceback (most recent call last)",
      "Cell \u001b[1;32mIn[26], line 3\u001b[0m\n\u001b[0;32m      1\u001b[0m \u001b[38;5;28;01mimport\u001b[39;00m \u001b[38;5;21;01mstring\u001b[39;00m\n\u001b[0;32m      2\u001b[0m \u001b[38;5;28mtype\u001b[39m(string\u001b[38;5;241m.\u001b[39mdigits)\n\u001b[1;32m----> 3\u001b[0m \u001b[38;5;28mprint\u001b[39m(\u001b[38;5;124m'\u001b[39m\u001b[38;5;124mg\u001b[39m\u001b[38;5;124m'\u001b[39m \u001b[38;5;129;01min\u001b[39;00m \u001b[43mstring\u001b[49m\u001b[38;5;241;43m.\u001b[39;49m\u001b[43mlowercase\u001b[49m)\n",
      "\u001b[1;31mAttributeError\u001b[0m: module 'string' has no attribute 'lowercase'"
     ]
    }
   ],
   "source": [
    "import string\n",
    "type(string.digits)\n",
    "print('g' in string.lowercase)"
   ]
  },
  {
   "cell_type": "code",
   "execution_count": 28,
   "id": "c0b600c2-d2b1-4f21-9e39-f63888d3b3b9",
   "metadata": {},
   "outputs": [
    {
     "name": "stdout",
     "output_type": "stream",
     "text": [
      "True\n"
     ]
    }
   ],
   "source": [
    "import string\n",
    "ch='g'\n",
    "print('a'<=ch<='z')"
   ]
  },
  {
   "cell_type": "markdown",
   "id": "346cac0d-68d9-441b-866f-301930669c03",
   "metadata": {},
   "source": [
    "# Regular Expressions"
   ]
  },
  {
   "cell_type": "code",
   "execution_count": 32,
   "id": "0d2856fa-bbaa-4e55-8272-1f14d26cd561",
   "metadata": {},
   "outputs": [
    {
     "name": "stdout",
     "output_type": "stream",
     "text": [
      "Pattern1 is not present in the string\n"
     ]
    }
   ],
   "source": [
    "import re\n",
    "string=\"She sells sea shells on the sea shore\"\n",
    "pattern1=\"sells\"\n",
    "if re.match(pattern1,string):        #Match() - It starts find the match only at the beginning of the string\n",
    "    print(\"Match Found\")\n",
    "else:\n",
    "    print(\"Pattern1 is not present in the string\")"
   ]
  },
  {
   "cell_type": "code",
   "execution_count": 31,
   "id": "18c08c8c-c2fa-4180-8690-8dfa2919ab7b",
   "metadata": {},
   "outputs": [
    {
     "name": "stdout",
     "output_type": "stream",
     "text": [
      "Match Found\n"
     ]
    }
   ],
   "source": [
    "pattern2=\"She\"\n",
    "if re.match(pattern2,string):\n",
    "    print(\"Match Found\")\n",
    "else:\n",
    "    print(\"Pattern1 is not present in the string\")"
   ]
  },
  {
   "cell_type": "code",
   "execution_count": 34,
   "id": "32fc6069-0d38-45c5-a5f9-f5889857dbe6",
   "metadata": {},
   "outputs": [
    {
     "name": "stdout",
     "output_type": "stream",
     "text": [
      "Match Found\n"
     ]
    }
   ],
   "source": [
    "import re\n",
    "string=\"She sells sea shells on the sea shore\"\n",
    "pattern1=\"sells\"\n",
    "if re.search(pattern1,string):        \n",
    "    print(\"Match Found\")\n",
    "else:\n",
    "    print(\"Pattern1 is not present in the string\")"
   ]
  },
  {
   "cell_type": "code",
   "execution_count": 37,
   "id": "20a9218f-8346-42f8-8127-ac9097ecf5cf",
   "metadata": {},
   "outputs": [
    {
     "name": "stdout",
     "output_type": "stream",
     "text": [
      "She sells ocean shells on the sea shore\n"
     ]
    }
   ],
   "source": [
    "import re\n",
    "string=\"She sells sea shells on the sea shore\"\n",
    "pattern=\"sea\"\n",
    "repl=\"ocean\"\n",
    "new_string=re.sub(pattern,repl,string,1)\n",
    "print(new_string)"
   ]
  },
  {
   "cell_type": "code",
   "execution_count": 53,
   "id": "a4dd5685-4008-4522-94d3-b1cbf58dbfdd",
   "metadata": {},
   "outputs": [
    {
     "name": "stdout",
     "output_type": "stream",
     "text": [
      "LXI 2013 VXI 2015 VDI 20104 "
     ]
    }
   ],
   "source": [
    "import re\n",
    "pattern=r\"[a-z A-Z]+\\d+\" \"\"\n",
    "matches=re.findall(pattern,\"LXI 2013,VXI 2015,VDI 20104,Maruti Suzuki Cars in India\")\n",
    "for match in matches:\n",
    "    print(match,end=\" \")\n"
   ]
  },
  {
   "cell_type": "code",
   "execution_count": 52,
   "id": "d246ce2a-3661-4229-a61b-c466a3d56c3c",
   "metadata": {},
   "outputs": [
    {
     "name": "stdout",
     "output_type": "stream",
     "text": [
      "0\n",
      "8\n",
      "(0, 8)\n",
      "9\n",
      "17\n",
      "(9, 17)\n",
      "18\n",
      "27\n",
      "(18, 27)\n"
     ]
    }
   ],
   "source": [
    "import re\n",
    "pattern=r\"[a-z A-Z]+\\d+\" \"\"\n",
    "matches=re.finditer(pattern,\"LXI 2013,VXI 2015,VDI 20104,Maruti Suzuki available with us\")\n",
    "for match in matches:\n",
    "    print(match.start())\n",
    "    print(match.end())\n",
    "    print(match.span())\n",
    "    "
   ]
  },
  {
   "cell_type": "code",
   "execution_count": 55,
   "id": "3b5ef88d-de8d-4610-a825-c74c5756dffd",
   "metadata": {},
   "outputs": [
    {
     "name": "stdout",
     "output_type": "stream",
     "text": [
      "Found\n",
      "<re.Match object; span=(1, 2), match='a'>\n"
     ]
    }
   ],
   "source": [
    "#Wap that checks if the string has atleast one vowel\n",
    "import re\n",
    "pattern=r\"[aeiou]\"\n",
    "str1=\"Aarushi\"\n",
    "if re.search(pattern,str1):\n",
    "    print(\"Found\")\n",
    "else:\n",
    "    print(\"Not Found\")\n",
    "print(re.search(pattern,str1))\n"
   ]
  },
  {
   "cell_type": "code",
   "execution_count": null,
   "id": "c4020c5a-2e03-48f0-b540-d44808110109",
   "metadata": {},
   "outputs": [],
   "source": []
  },
  {
   "cell_type": "code",
   "execution_count": null,
   "id": "8f2e7021-1c25-47b9-b69e-666f1e9e801b",
   "metadata": {},
   "outputs": [],
   "source": []
  }
 ],
 "metadata": {
  "kernelspec": {
   "display_name": "Python 3 (ipykernel)",
   "language": "python",
   "name": "python3"
  },
  "language_info": {
   "codemirror_mode": {
    "name": "ipython",
    "version": 3
   },
   "file_extension": ".py",
   "mimetype": "text/x-python",
   "name": "python",
   "nbconvert_exporter": "python",
   "pygments_lexer": "ipython3",
   "version": "3.12.4"
  }
 },
 "nbformat": 4,
 "nbformat_minor": 5
}
