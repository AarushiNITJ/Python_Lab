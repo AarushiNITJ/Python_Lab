{
 "cells": [
  {
   "cell_type": "code",
   "execution_count": 16,
   "id": "2ea213a7-6416-4c41-9da0-84dee056b5d4",
   "metadata": {},
   "outputs": [
    {
     "name": "stdout",
     "output_type": "stream",
     "text": [
      "7\n"
     ]
    }
   ],
   "source": [
    "msg = \"she is my best friend\"\n",
    "\n",
    "print(msg.find(\"my\", 0, len(msg)))"
   ]
  },
  {
   "cell_type": "code",
   "execution_count": 7,
   "id": "4263531b-70d5-40c9-b1b6-0b3eaee7973c",
   "metadata": {},
   "outputs": [
    {
     "name": "stdout",
     "output_type": "stream",
     "text": [
      "-1\n"
     ]
    }
   ],
   "source": [
    "msg = \"she is my best friend\"\n",
    "\n",
    "print(msg.find(\"mine\", 0, len(msg)))"
   ]
  },
  {
   "cell_type": "code",
   "execution_count": 5,
   "id": "6509ee1c-3c11-4be3-afc1-63706020c0cf",
   "metadata": {},
   "outputs": [
    {
     "ename": "ValueError",
     "evalue": "substring not found",
     "output_type": "error",
     "traceback": [
      "\u001b[1;31m---------------------------------------------------------------------------\u001b[0m",
      "\u001b[1;31mValueError\u001b[0m                                Traceback (most recent call last)",
      "Cell \u001b[1;32mIn[5], line 3\u001b[0m\n\u001b[0;32m      1\u001b[0m msg \u001b[38;5;241m=\u001b[39m \u001b[38;5;124m\"\u001b[39m\u001b[38;5;124mshe is my best friend\u001b[39m\u001b[38;5;124m\"\u001b[39m\n\u001b[1;32m----> 3\u001b[0m \u001b[38;5;28mprint\u001b[39m(\u001b[43mmsg\u001b[49m\u001b[38;5;241;43m.\u001b[39;49m\u001b[43mindex\u001b[49m\u001b[43m(\u001b[49m\u001b[38;5;124;43m\"\u001b[39;49m\u001b[38;5;124;43mmine\u001b[39;49m\u001b[38;5;124;43m\"\u001b[39;49m\u001b[43m,\u001b[49m\u001b[43m \u001b[49m\u001b[38;5;241;43m0\u001b[39;49m\u001b[43m,\u001b[49m\u001b[43m \u001b[49m\u001b[38;5;28;43mlen\u001b[39;49m\u001b[43m(\u001b[49m\u001b[43mmsg\u001b[49m\u001b[43m)\u001b[49m\u001b[43m)\u001b[49m)\n",
      "\u001b[1;31mValueError\u001b[0m: substring not found"
     ]
    }
   ],
   "source": [
    "msg = \"she is my best friend\"\n",
    "\n",
    "print(msg.index(\"mine\", 0, len(msg)))"
   ]
  },
  {
   "cell_type": "code",
   "execution_count": 10,
   "id": "27bd919f-3c8e-40d8-b25e-c7f06a12351c",
   "metadata": {},
   "outputs": [
    {
     "name": "stdout",
     "output_type": "stream",
     "text": [
      "7\n"
     ]
    }
   ],
   "source": [
    "msg = \"she is my best friend\"\n",
    "\n",
    "print(msg.rfind(\"my\", 0, len(msg)))"
   ]
  },
  {
   "cell_type": "code",
   "execution_count": 14,
   "id": "39441208-0b41-4c94-bffc-19ccee06ee72",
   "metadata": {},
   "outputs": [
    {
     "name": "stdout",
     "output_type": "stream",
     "text": [
      "5\n"
     ]
    }
   ],
   "source": [
    "str=\"Is this your bag?\"\n",
    "print(str.rfind(\"is\",0,len(str)))"
   ]
  },
  {
   "cell_type": "code",
   "execution_count": 20,
   "id": "94ee4da6-d75d-4d29-a9ac-45ef1b5cdb1d",
   "metadata": {},
   "outputs": [
    {
     "name": "stdout",
     "output_type": "stream",
     "text": [
      "8\n"
     ]
    }
   ],
   "source": [
    "str=\"Is this your bag?\"\n",
    "print(str.rindex(\"you\",0,len(str)))"
   ]
  },
  {
   "cell_type": "code",
   "execution_count": 21,
   "id": "a62a438c-f449-4d2a-b6d0-9fed35992109",
   "metadata": {},
   "outputs": [
    {
     "name": "stdout",
     "output_type": "stream",
     "text": [
      "True\n"
     ]
    }
   ],
   "source": [
    "msg=\"JamesBond007\"\n",
    "print(msg.isalnum())"
   ]
  },
  {
   "cell_type": "code",
   "execution_count": 22,
   "id": "be4568dc-3d64-44cc-908c-139db0df961a",
   "metadata": {},
   "outputs": [
    {
     "name": "stdout",
     "output_type": "stream",
     "text": [
      "False\n"
     ]
    }
   ],
   "source": [
    "msg=\"JamesBond007\"\n",
    "print(msg.isalpha())"
   ]
  },
  {
   "cell_type": "code",
   "execution_count": 23,
   "id": "73cd815a-f19f-4b66-9dee-136fa3531eb2",
   "metadata": {},
   "outputs": [
    {
     "name": "stdout",
     "output_type": "stream",
     "text": [
      "False\n"
     ]
    }
   ],
   "source": [
    "msg=\"JamesBond007\"\n",
    "print(msg.isdigit())"
   ]
  },
  {
   "cell_type": "code",
   "execution_count": 26,
   "id": "8237c23e-9cd7-4b48-b124-ea1ad148eaad",
   "metadata": {},
   "outputs": [
    {
     "name": "stdout",
     "output_type": "stream",
     "text": [
      "False\n"
     ]
    }
   ],
   "source": [
    "msg=\"HELLO\"\n",
    "print(msg.islower())"
   ]
  },
  {
   "cell_type": "code",
   "execution_count": 25,
   "id": "a3c99983-7d74-4686-98d4-eefaa4262ec0",
   "metadata": {},
   "outputs": [
    {
     "name": "stdout",
     "output_type": "stream",
     "text": [
      "False\n"
     ]
    }
   ],
   "source": [
    "msg=\"hello\"\n",
    "print(msg.isupper())"
   ]
  },
  {
   "cell_type": "code",
   "execution_count": 30,
   "id": "7748def3-06a8-4030-8328-957590b3d464",
   "metadata": {},
   "outputs": [
    {
     "name": "stdout",
     "output_type": "stream",
     "text": [
      "True\n"
     ]
    }
   ],
   "source": [
    "str=\" \"\n",
    "print(str.isspace())"
   ]
  },
  {
   "cell_type": "code",
   "execution_count": 33,
   "id": "760b1e9a-fc07-492a-a808-7585cb3eaff2",
   "metadata": {},
   "outputs": [
    {
     "name": "stdout",
     "output_type": "stream",
     "text": [
      "5\n"
     ]
    }
   ],
   "source": [
    "msg=\"hello\"\n",
    "print(len(msg))"
   ]
  },
  {
   "cell_type": "code",
   "execution_count": 34,
   "id": "acb66b2e-0574-4215-a126-ce28f82f5f47",
   "metadata": {},
   "outputs": [
    {
     "name": "stdout",
     "output_type": "stream",
     "text": [
      "hello*****\n"
     ]
    }
   ],
   "source": [
    "str=\"hello\"\n",
    "print(str.ljust(10,'*'))"
   ]
  },
  {
   "cell_type": "code",
   "execution_count": 35,
   "id": "a80dba9f-1fe9-4229-bfd3-39e057a1d20b",
   "metadata": {},
   "outputs": [
    {
     "name": "stdout",
     "output_type": "stream",
     "text": [
      "*****hello\n"
     ]
    }
   ],
   "source": [
    "str=\"hello\"\n",
    "print(str.rjust(10,'*'))"
   ]
  },
  {
   "cell_type": "code",
   "execution_count": 40,
   "id": "4ee97bed-65ed-4ca1-a01d-5d3732734f72",
   "metadata": {},
   "outputs": [
    {
     "name": "stdout",
     "output_type": "stream",
     "text": [
      "0000001234\n"
     ]
    }
   ],
   "source": [
    "str=\"1234\"\n",
    "print(str.zfill(10))"
   ]
  },
  {
   "cell_type": "code",
   "execution_count": 42,
   "id": "9ffa6976-edbc-4f8a-b150-7af12316e604",
   "metadata": {},
   "outputs": [
    {
     "name": "stdout",
     "output_type": "stream",
     "text": [
      "-000001234\n"
     ]
    }
   ],
   "source": [
    "str=\"-1234\"\n",
    "print(str.zfill(10))"
   ]
  },
  {
   "cell_type": "code",
   "execution_count": 47,
   "id": "8c27cdd8-c719-4462-b02e-b2e0f36c5ec6",
   "metadata": {},
   "outputs": [
    {
     "name": "stdout",
     "output_type": "stream",
     "text": [
      "Hello  \n"
     ]
    }
   ],
   "source": [
    "str=\"  Hello  \"\n",
    "print(str.lstrip())"
   ]
  },
  {
   "cell_type": "code",
   "execution_count": 48,
   "id": "afb347db-05fb-4c8f-8c59-d1bfff39ff20",
   "metadata": {},
   "outputs": [
    {
     "name": "stdout",
     "output_type": "stream",
     "text": [
      "  Hello\n"
     ]
    }
   ],
   "source": [
    "str=\"  Hello  \"\n",
    "print(str.rstrip())"
   ]
  },
  {
   "cell_type": "code",
   "execution_count": 49,
   "id": "bc384d0d-3aad-4aaf-9ccc-2ee0ec2862d1",
   "metadata": {},
   "outputs": [
    {
     "name": "stdout",
     "output_type": "stream",
     "text": [
      "Hello\n"
     ]
    }
   ],
   "source": [
    "str=\"  Hello  \"\n",
    "print(str.strip())"
   ]
  },
  {
   "cell_type": "code",
   "execution_count": 50,
   "id": "a5df3074-ddcb-4ae9-9f03-6e8dd523623c",
   "metadata": {},
   "outputs": [
    {
     "name": "stdout",
     "output_type": "stream",
     "text": [
      "s\n"
     ]
    }
   ],
   "source": [
    "str=\"Hello friends\"\n",
    "print(max(str))"
   ]
  },
  {
   "cell_type": "code",
   "execution_count": 53,
   "id": "79ae7153-6a79-4d11-8879-c771275fda51",
   "metadata": {},
   "outputs": [
    {
     "name": "stdout",
     "output_type": "stream",
     "text": [
      "Follo Follo Follo\n"
     ]
    }
   ],
   "source": [
    "str=\"Hello Hello Hello\"\n",
    "print(str.replace(\"He\",\"Fo\"))"
   ]
  },
  {
   "cell_type": "code",
   "execution_count": 54,
   "id": "34b59df3-c380-453a-b55f-6eb0deccb1d6",
   "metadata": {},
   "outputs": [
    {
     "name": "stdout",
     "output_type": "stream",
     "text": [
      "The World Is Beautiful\n"
     ]
    }
   ],
   "source": [
    "str=\"The world is beautiful\"\n",
    "print(str.title())"
   ]
  },
  {
   "cell_type": "code",
   "execution_count": 55,
   "id": "ef80a684-ceb7-4654-ade9-24cd9674a3ad",
   "metadata": {},
   "outputs": [
    {
     "name": "stdout",
     "output_type": "stream",
     "text": [
      "tHE WORLD IS BEAUTIFUL\n"
     ]
    }
   ],
   "source": [
    "str=\"The world is beautiful\"\n",
    "print(str.swapcase())"
   ]
  },
  {
   "cell_type": "code",
   "execution_count": 57,
   "id": "a05b8054-fea1-4de0-a2a5-ef96d8be4fd0",
   "metadata": {},
   "outputs": [
    {
     "name": "stdout",
     "output_type": "stream",
     "text": [
      "['abc', 'def', 'ghe', 'jkl']\n"
     ]
    }
   ],
   "source": [
    "str=\"abc,def,ghe,jkl\"\n",
    "print(str.split(\",\"))"
   ]
  },
  {
   "cell_type": "code",
   "execution_count": 58,
   "id": "a56db7cc-d3cf-48c4-81ee-e541d444664d",
   "metadata": {},
   "outputs": [
    {
     "name": "stdout",
     "output_type": "stream",
     "text": [
      "82\n"
     ]
    }
   ],
   "source": [
    "ch='R'\n",
    "print(ord(ch))"
   ]
  },
  {
   "cell_type": "code",
   "execution_count": 60,
   "id": "29ad1df2-17da-414e-a675-a821f103cab5",
   "metadata": {},
   "outputs": [
    {
     "name": "stdout",
     "output_type": "stream",
     "text": [
      "R\n"
     ]
    }
   ],
   "source": [
    "print(chr(82))"
   ]
  },
  {
   "cell_type": "code",
   "execution_count": 61,
   "id": "6bd9ec45-0727-4c6b-8846-295afec0c301",
   "metadata": {},
   "outputs": [
    {
     "name": "stdout",
     "output_type": "stream",
     "text": [
      "z\n"
     ]
    }
   ],
   "source": [
    "print(chr(122))"
   ]
  },
  {
   "cell_type": "code",
   "execution_count": 67,
   "id": "89e585da-1a9d-479b-b3cc-94f4b13d2950",
   "metadata": {},
   "outputs": [
    {
     "name": "stdout",
     "output_type": "stream",
     "text": [
      "112\n"
     ]
    }
   ],
   "source": [
    "print(ord('p'))"
   ]
  },
  {
   "cell_type": "code",
   "execution_count": 71,
   "id": "ea2223b9-442f-4ee0-a911-9b1f21eeaf4b",
   "metadata": {},
   "outputs": [
    {
     "name": "stdout",
     "output_type": "stream",
     "text": [
      "\n",
      "A\n",
      "AB\n",
      "ABC\n",
      "ABCD\n",
      "ABCDE\n",
      "ABCDEF"
     ]
    }
   ],
   "source": [
    "for i in range(1, 7):  \n",
    "    ch='A'\n",
    "    print()\n",
    "    for j in range(1,i+1):\n",
    "        print(ch,end=\"\")\n",
    "        ch=chr(ord(ch)+1)\n",
    "        "
   ]
  },
  {
   "cell_type": "code",
   "execution_count": 76,
   "id": "f4ea63c6-80b4-451e-a58a-b833d6326d99",
   "metadata": {},
   "outputs": [
    {
     "name": "stdout",
     "output_type": "stream",
     "text": [
      "abc_def_ghe\n"
     ]
    }
   ],
   "source": [
    "str=\"abc,def,ghe,jkl\"\n",
    "print('_'.join(['abc','def','ghe']))"
   ]
  },
  {
   "cell_type": "code",
   "execution_count": 78,
   "id": "5f77c40d-8f96-4d6d-a509-ee64ff7db56b",
   "metadata": {},
   "outputs": [
    {
     "name": "stdout",
     "output_type": "stream",
     "text": [
      "True\n"
     ]
    }
   ],
   "source": [
    "s=\"hello\"\n",
    "print(s.isidentifier())"
   ]
  },
  {
   "cell_type": "code",
   "execution_count": 80,
   "id": "4d3d23be-5bb5-4d40-8419-039130d03f3a",
   "metadata": {},
   "outputs": [
    {
     "name": "stdout",
     "output_type": "stream",
     "text": [
      "[(0, 'h'), (1, 'e'), (2, 'l'), (3, 'l'), (4, 'o'), (5, ' '), (6, 'w'), (7, 'o'), (8, 'r'), (9, 'l'), (10, 'd')]\n"
     ]
    }
   ],
   "source": [
    "str=\"hello world\"\n",
    "print(list(enumerate(str)))"
   ]
  },
  {
   "cell_type": "code",
   "execution_count": 83,
   "id": "c2ee163b-5d60-41f9-af22-b11f3eab8912",
   "metadata": {},
   "outputs": [
    {
     "name": "stdout",
     "output_type": "stream",
     "text": [
      "found\n"
     ]
    }
   ],
   "source": [
    "str1=\"Welcome to the world of python\"\n",
    "str2=\"the\"\n",
    "if str2 in str1:\n",
    "    print(\"found\")\n",
    "else:\n",
    "    print(\"Not found\")"
   ]
  },
  {
   "cell_type": "code",
   "execution_count": 85,
   "id": "ed6a289f-1fe5-4d6f-9b1e-e2534dbc86f7",
   "metadata": {},
   "outputs": [
    {
     "data": {
      "text/plain": [
       "False"
      ]
     },
     "execution_count": 85,
     "metadata": {},
     "output_type": "execute_result"
    }
   ],
   "source": [
    "'u' in \"Star\""
   ]
  },
  {
   "cell_type": "code",
   "execution_count": 86,
   "id": "c2e9a46c-7f5e-403f-aa1d-72bb6267f044",
   "metadata": {},
   "outputs": [
    {
     "data": {
      "text/plain": [
       "True"
      ]
     },
     "execution_count": 86,
     "metadata": {},
     "output_type": "execute_result"
    }
   ],
   "source": [
    "\"abc\"==\"abc\""
   ]
  },
  {
   "cell_type": "code",
   "execution_count": 87,
   "id": "305544fe-ec28-41b1-88ca-011fbb4ac05e",
   "metadata": {},
   "outputs": [
    {
     "data": {
      "text/plain": [
       "False"
      ]
     },
     "execution_count": 87,
     "metadata": {},
     "output_type": "execute_result"
    }
   ],
   "source": [
    "\"abc\"!=\"abc\""
   ]
  },
  {
   "cell_type": "code",
   "execution_count": 93,
   "id": "fcf3b845-3482-408a-abed-c8ef5b9546fc",
   "metadata": {},
   "outputs": [
    {
     "ename": "SyntaxError",
     "evalue": "invalid syntax (4111789906.py, line 1)",
     "output_type": "error",
     "traceback": [
      "\u001b[1;36m  Cell \u001b[1;32mIn[93], line 1\u001b[1;36m\u001b[0m\n\u001b[1;33m    \"abc\"<>\"bc\"\u001b[0m\n\u001b[1;37m         ^\u001b[0m\n\u001b[1;31mSyntaxError\u001b[0m\u001b[1;31m:\u001b[0m invalid syntax\n"
     ]
    }
   ],
   "source": [
    "\"abc\"<>\"bc\""
   ]
  },
  {
   "cell_type": "code",
   "execution_count": 91,
   "id": "26ae3d67-0307-4f62-9fea-e3704ebc381f",
   "metadata": {},
   "outputs": [
    {
     "data": {
      "text/plain": [
       "False"
      ]
     },
     "execution_count": 91,
     "metadata": {},
     "output_type": "execute_result"
    }
   ],
   "source": [
    "\"TED\"==\"ted\""
   ]
  },
  {
   "cell_type": "code",
   "execution_count": 92,
   "id": "36fccc2e-27e8-490b-94c4-b81c8707eb91",
   "metadata": {},
   "outputs": [
    {
     "data": {
      "text/plain": [
       "False"
      ]
     },
     "execution_count": 92,
     "metadata": {},
     "output_type": "execute_result"
    }
   ],
   "source": [
    "\"talk\">\"talks\""
   ]
  },
  {
   "cell_type": "code",
   "execution_count": 99,
   "id": "f0cc22a4-1f71-4c7a-8269-b178186eaf03",
   "metadata": {},
   "outputs": [
    {
     "name": "stdout",
     "output_type": "stream",
     "text": [
      "Welcome to python"
     ]
    }
   ],
   "source": [
    "#WAP using while loop to iterate a string \n",
    "message=\"Welcome to python\"\n",
    "i=0\n",
    "while i<len(message):\n",
    "    l=message[i]\n",
    "    print(l,end=\"\")\n",
    "    i+=1\n",
    "   \n"
   ]
  },
  {
   "cell_type": "code",
   "execution_count": 102,
   "id": "f8c8938e-b1d8-46a1-a589-621bafcab854",
   "metadata": {},
   "outputs": [
    {
     "name": "stdout",
     "output_type": "stream",
     "text": [
      "KhoorZruog"
     ]
    }
   ],
   "source": [
    "#WAP that encrypts message by adding a key value to every character for eg if key is 3 then add 3 to every character\n",
    "\n",
    "message = \"HelloWorld\"\n",
    "i=0\n",
    "while i<len(message):\n",
    "    l=message[i]\n",
    "    a=ord(l)+3\n",
    "    b=chr(a)\n",
    "    print(b,end=\"\")\n",
    "    i+=1\n"
   ]
  },
  {
   "cell_type": "code",
   "execution_count": 106,
   "id": "ff359cd5-182f-400a-a391-43ba45fde181",
   "metadata": {},
   "outputs": [
    {
     "name": "stdout",
     "output_type": "stream",
     "text": [
      "['Dear students, I am pleased to inform you that, there is a workshop on python tomorrow.', 'Everyone should come and there will also be a quiz in python and whosoever wins will win a gold medal.']\n"
     ]
    }
   ],
   "source": [
    "#WAP that use split function to split a multiline string\n",
    "msg='''Dear students, I am pleased to inform you that, there is a workshop on python tomorrow.\n",
    "Everyone should come and there will also be a quiz in python and whosoever wins will win a gold medal.'''\n",
    "print(msg.split('\\n'))"
   ]
  },
  {
   "cell_type": "code",
   "execution_count": 112,
   "id": "cbd76abe-b102-49a7-ad53-5a087b9b43fd",
   "metadata": {},
   "outputs": [
    {
     "name": "stdin",
     "output_type": "stream",
     "text": [
      "Enter a string: Aarushi\n"
     ]
    },
    {
     "name": "stdout",
     "output_type": "stream",
     "text": [
      "rsh"
     ]
    }
   ],
   "source": [
    "#WAP that accepts a string from user and redisplays the same string after removing vowel from it\n",
    "\n",
    "vowels=[\"a\",\"e\",\"i\",\"o\",\"u\",\"A\",\"E\",\"I\",\"O\",\"U\"]\n",
    "str1=input(\"Enter a string:\")\n",
    "i=0\n",
    "while i<len(str1):\n",
    "    if str1[i] not in vowels:\n",
    "        print(str1[i],end=\"\")\n",
    "    i+=1\n"
   ]
  },
  {
   "cell_type": "code",
   "execution_count": null,
   "id": "05d9afb7-f016-4466-bf12-cafa90a1c79f",
   "metadata": {},
   "outputs": [],
   "source": []
  },
  {
   "cell_type": "code",
   "execution_count": null,
   "id": "b39a2aea-215c-4b00-b926-9524e8fe5caf",
   "metadata": {},
   "outputs": [],
   "source": []
  }
 ],
 "metadata": {
  "kernelspec": {
   "display_name": "Python 3 (ipykernel)",
   "language": "python",
   "name": "python3"
  },
  "language_info": {
   "codemirror_mode": {
    "name": "ipython",
    "version": 3
   },
   "file_extension": ".py",
   "mimetype": "text/x-python",
   "name": "python",
   "nbconvert_exporter": "python",
   "pygments_lexer": "ipython3",
   "version": "3.12.4"
  }
 },
 "nbformat": 4,
 "nbformat_minor": 5
}
