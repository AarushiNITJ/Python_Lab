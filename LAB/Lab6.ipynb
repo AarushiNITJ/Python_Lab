{
 "cells": [
  {
   "cell_type": "code",
   "execution_count": 21,
   "id": "c3f5a3d7-6dd7-4d02-87b5-ef7a058bd44b",
   "metadata": {},
   "outputs": [
    {
     "name": "stdout",
     "output_type": "stream",
     "text": [
      "a: 3\n",
      "b: 2\n"
     ]
    }
   ],
   "source": [
    "#WAP to swap two values using tuple assignment\n",
    "\n",
    "(a,b)=(2,3)\n",
    "(a,b) = (b,a)\n",
    "\n",
    "print(\"a:\", a)\n",
    "print(\"b:\", b)\n",
    "\n"
   ]
  },
  {
   "cell_type": "code",
   "execution_count": 20,
   "id": "867d6d93-dced-4b20-9f0a-8f83aee8dc35",
   "metadata": {},
   "outputs": [
    {
     "name": "stdout",
     "output_type": "stream",
     "text": [
      "area: 50.24\n",
      "circumference: 25.12\n"
     ]
    }
   ],
   "source": [
    "#WAP using a function that returns the area and circumference of a circle whose radius is passed as an argument\n",
    "def fun(r):\n",
    "    \n",
    "    area=3.14*r*r\n",
    "    circumference=2*3.14*r\n",
    "    return area,c\n",
    "(area,circumference)=fun(4)\n",
    "print(\"area:\",area)\n",
    "print(\"circumference:\", circumference)\n",
    "\n",
    "\n",
    "\n",
    "\n",
    "    "
   ]
  },
  {
   "cell_type": "code",
   "execution_count": 22,
   "id": "84439838-a880-4b51-8574-f6f36de93c2a",
   "metadata": {},
   "outputs": [
    {
     "name": "stdin",
     "output_type": "stream",
     "text": [
      "Enter your email address:  aarushi456@gmail.com\n"
     ]
    },
    {
     "name": "stdout",
     "output_type": "stream",
     "text": [
      "Username: aarushi456\n",
      "Domain: gmail.com\n"
     ]
    }
   ],
   "source": [
    "#WAP that scans an email address and forms a tuple of username and domain\n",
    "\n",
    "def extract(email):\n",
    "    username, domain = email.split('@')\n",
    "    return username, domain \n",
    "\n",
    "email = input(\"Enter your email address: \")\n",
    "username, domain = extract(email)\n",
    "print(\"Username:\",username)\n",
    "print(\"Domain:\",domain)\n"
   ]
  },
  {
   "cell_type": "code",
   "execution_count": 25,
   "id": "46603103-a4ff-40e3-9a9c-78605e4892f4",
   "metadata": {},
   "outputs": [
    {
     "name": "stdin",
     "output_type": "stream",
     "text": [
      "Enter your email address:  aarushi456@gmail.com\n"
     ]
    },
    {
     "name": "stdout",
     "output_type": "stream",
     "text": [
      "Username: aarushi456\n",
      "Domain: gmail.com\n"
     ]
    }
   ],
   "source": [
    "\n",
    "def extract(email):\n",
    "    at_index = email.find('@')\n",
    "    \n",
    "    username = email[:at_index]\n",
    "    \n",
    "    domain = email[at_index + 1:]\n",
    "    \n",
    "    email_parts = (username, domain)\n",
    "    \n",
    "    return email_parts\n",
    "email = input(\"Enter your email address: \")\n",
    "username, domain = extract(email)\n",
    "print(\"Username:\",username)\n",
    "print(\"Domain:\",domain)\n"
   ]
  },
  {
   "cell_type": "code",
   "execution_count": 5,
   "id": "cf9c3e18-7079-4f05-ada7-ad27a1324a14",
   "metadata": {},
   "outputs": [
    {
     "name": "stdout",
     "output_type": "stream",
     "text": [
      "The original list of toppers is : [['Arnav', 'MSC', 92], ['Aarushi', 'BE', 67], ['Sanv', 'BSC', 56]]\n",
      "Enter the metadata you wish to edit:\n",
      "\n",
      "Choose the name of the student you wish to edit the details for.Press\n",
      "0.To edit the details of the student Arnav\n",
      "1.To edit the details of the student Aarushi\n",
      "2.To edit the details of the student Sanv\n"
     ]
    },
    {
     "name": "stdin",
     "output_type": "stream",
     "text": [
      "Enter your choice: 2\n"
     ]
    },
    {
     "name": "stdout",
     "output_type": "stream",
     "text": [
      "Press\n",
      "1. To edit the name\n",
      "2. To edit the branch\n",
      "3. To edit the marks\n"
     ]
    },
    {
     "name": "stdin",
     "output_type": "stream",
     "text": [
      "Enter your choice(1/2/3): 2\n",
      "Enter the new branch: me\n"
     ]
    },
    {
     "name": "stdout",
     "output_type": "stream",
     "text": [
      "New list is: [['Arnav', 'MSC', 92], ['Aarushi', 'BE', 67], ['Sanv', 'me', 56]]\n"
     ]
    }
   ],
   "source": [
    "# WAP that has a nested list to store topper's details. Edit the details and reprint the details. \n",
    "l1=[[\"Arnav\",\"MSC\",92],[\"Aarushi\",\"BE\",67],[\"Sanv\",\"BSC\",56]]\n",
    "print(\"The original list of toppers is :\",l1)\n",
    "print(\"Enter the metadata you wish to edit:\")\n",
    "print(\"\\nChoose the name of the student you wish to edit the details for.Press\")\n",
    "for i in range(len(l1)):\n",
    "    print(f'{i}.To edit the details of the student {l1[i][0]}')\n",
    "ch1 = int(input(\"Enter your choice:\"))\n",
    "print(\"Press\\n1. To edit the name\\n2. To edit the branch\\n3. To edit the marks\")\n",
    "ch2 = int(input(\"Enter your choice(1/2/3):\"))\n",
    "\n",
    "if ch1 not in range(len(l1)):\n",
    "    print(\"Wrong student index chosen!\")\n",
    "else:\n",
    "    if ch2 == 1:\n",
    "        new_name = input(\"Enter the new name:\")\n",
    "        l1[ch1][0] = new_name\n",
    "    elif ch2 ==2:\n",
    "        new_name = input(\"Enter the new branch:\")\n",
    "        l1[ch1][1] = new_name\n",
    "    elif ch2 ==3:\n",
    "        new_name = input(\"Enter the new marks:\")\n",
    "        l1[ch1][2] = new_name\n",
    "    else:\n",
    "        print(\"Wrong choice entered\")\n",
    "    print(\"New list is:\",l1)\n"
   ]
  },
  {
   "cell_type": "code",
   "execution_count": null,
   "id": "06a4db17-6584-480f-aba8-2728b168e18f",
   "metadata": {},
   "outputs": [],
   "source": []
  }
 ],
 "metadata": {
  "kernelspec": {
   "display_name": "Python 3 (ipykernel)",
   "language": "python",
   "name": "python3"
  },
  "language_info": {
   "codemirror_mode": {
    "name": "ipython",
    "version": 3
   },
   "file_extension": ".py",
   "mimetype": "text/x-python",
   "name": "python",
   "nbconvert_exporter": "python",
   "pygments_lexer": "ipython3",
   "version": "3.12.4"
  }
 },
 "nbformat": 4,
 "nbformat_minor": 5
}
