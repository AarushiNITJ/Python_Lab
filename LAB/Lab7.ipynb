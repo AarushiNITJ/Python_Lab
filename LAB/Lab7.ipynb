{
 "cells": [
  {
   "cell_type": "code",
   "execution_count": 4,
   "id": "a954f20f-7fe1-4377-a1e3-a235d56d4fe3",
   "metadata": {},
   "outputs": [
    {
     "name": "stdout",
     "output_type": "stream",
     "text": [
      "True\n"
     ]
    }
   ],
   "source": [
    "thisset = {\"apple\",\"banana\",\"cherry\"}\n",
    "print(\"banana\" in thisset)"
   ]
  },
  {
   "cell_type": "code",
   "execution_count": 3,
   "id": "1ef08570-b54a-4c54-b5a7-905eeaccccc6",
   "metadata": {},
   "outputs": [
    {
     "name": "stdout",
     "output_type": "stream",
     "text": [
      "False\n"
     ]
    }
   ],
   "source": [
    "thisset = {\"apple\",\"banana\",\"cherry\"}\n",
    "print(\"banana\" not in thisset)"
   ]
  },
  {
   "cell_type": "code",
   "execution_count": 19,
   "id": "f282b31e-d362-4345-bfb0-71c7c326af85",
   "metadata": {},
   "outputs": [
    {
     "name": "stdout",
     "output_type": "stream",
     "text": [
      "{'apple', 'banana', 'cherry', 'orange'}\n"
     ]
    }
   ],
   "source": [
    "thisset = {\"apple\",\"banana\",\"cherry\"}\n",
    "thisset.add(\"orange\")\n",
    "print(thisset)"
   ]
  },
  {
   "cell_type": "code",
   "execution_count": 8,
   "id": "bba49931-158a-4190-82e0-b100b0c48c17",
   "metadata": {},
   "outputs": [
    {
     "name": "stdout",
     "output_type": "stream",
     "text": [
      "{'apple', 'mangp', 'banana', 'papaya', 'pine', 'cherry'}\n"
     ]
    }
   ],
   "source": [
    "thisset = {\"apple\",\"banana\",\"cherry\"}\n",
    "tropical ={\"pine\",\"mangp\",\"papaya\"}\n",
    "thisset.update(tropical)\n",
    "print(thisset)"
   ]
  },
  {
   "cell_type": "code",
   "execution_count": 17,
   "id": "6aad852f-fd95-4481-9fa3-4e1e10653dd2",
   "metadata": {},
   "outputs": [
    {
     "name": "stdout",
     "output_type": "stream",
     "text": [
      "{'cherry', 'apple', 'KIWIW', 'banana', 'Papaya'}\n"
     ]
    }
   ],
   "source": [
    "#ADD ANY ITERABLE\n",
    "thisset = {\"apple\",\"banana\",\"cherry\"}\n",
    "mylist = [\"KIWIW\",\"Papaya\"]\n",
    "thisset.update(mylist)\n",
    "print(thisset)"
   ]
  },
  {
   "cell_type": "code",
   "execution_count": 21,
   "id": "46fe59bc-3afc-4c0d-9ca7-f0796767f0f8",
   "metadata": {},
   "outputs": [
    {
     "name": "stdout",
     "output_type": "stream",
     "text": [
      "{'banana', 'cherry'}\n"
     ]
    }
   ],
   "source": [
    "thisset = {\"apple\",\"banana\",\"cherry\"}\n",
    "#thisset.remove(\"apple\")      #if an item doesnot exist remove will raise an error but discard would not.\n",
    "thisset.discard(\"apple\")\n",
    "print(thisset)"
   ]
  },
  {
   "cell_type": "code",
   "execution_count": 22,
   "id": "ed52962f-27d2-4f0a-9f35-9b7bfce36189",
   "metadata": {},
   "outputs": [
    {
     "name": "stdout",
     "output_type": "stream",
     "text": [
      "apple\n",
      "{'banana', 'cherry'}\n"
     ]
    }
   ],
   "source": [
    "thisset = {\"apple\",\"banana\",\"cherry\"}\n",
    "x=thisset.pop()\n",
    "print(x)\n",
    "print(thisset)"
   ]
  },
  {
   "cell_type": "code",
   "execution_count": 23,
   "id": "904d4bad-8862-4a80-bca2-2c5c8f3aad12",
   "metadata": {},
   "outputs": [
    {
     "name": "stdout",
     "output_type": "stream",
     "text": [
      "set()\n"
     ]
    }
   ],
   "source": [
    "thisset = {\"apple\",\"banana\",\"cherry\"}\n",
    "thisset.clear()\n",
    "print(thisset)"
   ]
  },
  {
   "cell_type": "code",
   "execution_count": 33,
   "id": "1a2c274d-6b29-426e-8649-eb5065a3d7c4",
   "metadata": {},
   "outputs": [
    {
     "ename": "NameError",
     "evalue": "name 'this_set' is not defined",
     "output_type": "error",
     "traceback": [
      "\u001b[1;31m---------------------------------------------------------------------------\u001b[0m",
      "\u001b[1;31mNameError\u001b[0m                                 Traceback (most recent call last)",
      "Cell \u001b[1;32mIn[33], line 3\u001b[0m\n\u001b[0;32m      1\u001b[0m this_set \u001b[38;5;241m=\u001b[39m {\u001b[38;5;124m\"\u001b[39m\u001b[38;5;124mapple\u001b[39m\u001b[38;5;124m\"\u001b[39m,\u001b[38;5;124m\"\u001b[39m\u001b[38;5;124mbana\u001b[39m\u001b[38;5;124m\"\u001b[39m,\u001b[38;5;124m\"\u001b[39m\u001b[38;5;124mcherry\u001b[39m\u001b[38;5;124m\"\u001b[39m}\n\u001b[0;32m      2\u001b[0m \u001b[38;5;28;01mdel\u001b[39;00m this_set\n\u001b[1;32m----> 3\u001b[0m \u001b[38;5;28mprint\u001b[39m(\u001b[43mthis_set\u001b[49m)\n",
      "\u001b[1;31mNameError\u001b[0m: name 'this_set' is not defined"
     ]
    }
   ],
   "source": [
    "this_set = {\"apple\",\"bana\",\"cherry\"}\n",
    "del this_set\n",
    "print(this_set)"
   ]
  },
  {
   "cell_type": "code",
   "execution_count": 30,
   "id": "303848be-d483-432b-82ea-c7c3e3abdc57",
   "metadata": {},
   "outputs": [
    {
     "name": "stdout",
     "output_type": "stream",
     "text": [
      "{1, 2, 3, 'b', 'c', 'a'}\n"
     ]
    }
   ],
   "source": [
    "#JOIN SETS\n",
    "#UNION\n",
    "set1 = {\"a\",\"b\",\"c\"}\n",
    "set2 = {1,2,3}\n",
    "set3=set1.union(set2)   \n",
    "print(set3)\n"
   ]
  },
  {
   "cell_type": "code",
   "execution_count": 32,
   "id": "bdbfcdbf-1051-4c43-afa6-66764653d81d",
   "metadata": {},
   "outputs": [
    {
     "name": "stdout",
     "output_type": "stream",
     "text": [
      "{1, 2, 3, 'b', 'c', 'a'}\n"
     ]
    }
   ],
   "source": [
    "#DIRECTLY USE | FOR UNION OF SETS\n",
    "\n",
    "set1 = {\"a\",\"b\",\"c\"}\n",
    "set2 = {1,2,3}\n",
    "set3=set1|set2\n",
    "print(set3)"
   ]
  },
  {
   "cell_type": "code",
   "execution_count": 34,
   "id": "c08cdcde-3384-451b-b4d0-28074d639203",
   "metadata": {},
   "outputs": [
    {
     "name": "stdout",
     "output_type": "stream",
     "text": [
      "{'John', 1, 2, 3, 'vheery', 'emin', 'b', 'c', 'apple', 'a'}\n"
     ]
    }
   ],
   "source": [
    "\n",
    "set1 = {\"a\",\"b\",\"c\"}\n",
    "set2 = {1,2,3}\n",
    "set3 ={\"John\",\"emin\"}\n",
    "set4={\"apple\",\"vheery\"}\n",
    "myset =set1|set2|set3|set4\n",
    "print(myset)"
   ]
  },
  {
   "cell_type": "code",
   "execution_count": 40,
   "id": "84529168-0cc3-4555-a985-3a8f55fbe592",
   "metadata": {},
   "outputs": [
    {
     "name": "stdout",
     "output_type": "stream",
     "text": [
      "{1, 2, 3, 'b', 'c', 'a'}\n"
     ]
    }
   ],
   "source": [
    "#join set with a tuple\n",
    "\n",
    "#| operator only allows you to join sets with sets, and not with other datatypes like you can do with union() method\n",
    "x = {\"a\",\"b\",\"c\"}\n",
    "y = {1,2,3}\n",
    "z=x.union(y)\n",
    "print(z)"
   ]
  },
  {
   "cell_type": "code",
   "execution_count": 39,
   "id": "4b0e3da6-264c-4c86-a822-1ea1cc76f8eb",
   "metadata": {},
   "outputs": [
    {
     "name": "stdout",
     "output_type": "stream",
     "text": [
      "{1, 2, 3, 'b', 'c', 'a'}\n"
     ]
    }
   ],
   "source": [
    "#both union and update will exclude duplicate items\n",
    "\n",
    "set1 = {\"a\",\"b\",\"c\"}\n",
    "set2 = {1,2,3}\n",
    "set1.update(set2)\n",
    "print(set1)"
   ]
  },
  {
   "cell_type": "code",
   "execution_count": 41,
   "id": "9b2419f8-6ec5-4f4c-8ef9-31a460856640",
   "metadata": {},
   "outputs": [],
   "source": [
    "#intersection() ---  will keep only duplicates\n",
    "\n",
    "#set3=set1.intersection\n",
    "#set3=set1 & set2\n",
    "#set1.intersection.update(set2)    -----  change original set instead of returning new set\n"
   ]
  },
  {
   "cell_type": "code",
   "execution_count": 42,
   "id": "11f709de-9048-4920-ac22-3798b20a2cd0",
   "metadata": {},
   "outputs": [
    {
     "name": "stdout",
     "output_type": "stream",
     "text": [
      "{False, 1, 'apple'}\n"
     ]
    }
   ],
   "source": [
    "set1 ={\"apple\",1,\"banana\",0,\"chereru\"}\n",
    "set2 = {False,\"google\",1,\"apple\",2,True}\n",
    "set3=set1.intersection(set2)\n",
    "print(set3)"
   ]
  },
  {
   "cell_type": "code",
   "execution_count": 44,
   "id": "4eccb6ba-a527-4d51-bb9f-b28f7b72a73c",
   "metadata": {},
   "outputs": [
    {
     "name": "stdout",
     "output_type": "stream",
     "text": [
      "{'banana', 'cherry'}\n"
     ]
    }
   ],
   "source": [
    "#difference --- return a new set\n",
    "\n",
    "set1 ={\"apple\",\"banana\",\"cherry\"}\n",
    "set2 ={\"google\",\"apple\",\"micro\"}\n",
    "set3=set1-set2\n",
    "print(set3)"
   ]
  },
  {
   "cell_type": "code",
   "execution_count": 21,
   "id": "cc93e29f-de62-4da9-b217-af37b9d28fef",
   "metadata": {},
   "outputs": [
    {
     "name": "stdout",
     "output_type": "stream",
     "text": [
      "{'banana', 'cherry'}\n"
     ]
    }
   ],
   "source": [
    "set1 ={\"apple\",\"banana\",\"cherry\"}\n",
    "set2 ={\"google\",\"apple\",\"micro\"}\n",
    "set1.difference_update(set2)\n",
    "print(set1)"
   ]
  },
  {
   "cell_type": "code",
   "execution_count": 49,
   "id": "52cdbbae-2aab-4b4b-b115-74135b1ad982",
   "metadata": {},
   "outputs": [
    {
     "name": "stdout",
     "output_type": "stream",
     "text": [
      "{'google', 'cherry', 'micro', 'banana'}\n"
     ]
    }
   ],
   "source": [
    "#symmetric difference ---- keep the items that are not present in same sets\n",
    "set1 ={\"apple\",\"banana\",\"cherry\"}\n",
    "set2 ={\"google\",\"apple\",\"micro\"}\n",
    "set3=set1.symmetric_difference(set2)       #you can use ^ operator instead of symmetric_difference() method\n",
    "print(set3)"
   ]
  },
  {
   "cell_type": "code",
   "execution_count": 50,
   "id": "68dcca0c-2b1f-4756-b6b6-51bbb97633e5",
   "metadata": {},
   "outputs": [],
   "source": [
    "#set3=set1.symmetric_difference_update(set2) "
   ]
  },
  {
   "cell_type": "code",
   "execution_count": 4,
   "id": "9e5f93ed-cd5d-43ba-ae64-65e73717c387",
   "metadata": {},
   "outputs": [],
   "source": [
    "#a.issuperset(c) ---   tests whether each element of c is in a  #   a>=b\n",
    "#c.isssubset(a) --tests whether each element of c is in a     ## a<=b\n",
    "#unique()\n",
    "#{frozenset({1,2}),,frozenset({3,4})} ------ set of sets"
   ]
  },
  {
   "cell_type": "code",
   "execution_count": 5,
   "id": "44072b51-f382-4b41-a384-36f268b79017",
   "metadata": {},
   "outputs": [],
   "source": [
    "#set operations using Methods and Builtins"
   ]
  },
  {
   "cell_type": "code",
   "execution_count": 6,
   "id": "baa43953-187f-47e3-9c6f-8937275981dc",
   "metadata": {},
   "outputs": [],
   "source": [
    "# a.isdisjoint(b)"
   ]
  },
  {
   "cell_type": "code",
   "execution_count": 7,
   "id": "00dfa105-4d65-496b-98b7-5f53dbf9e2cc",
   "metadata": {},
   "outputs": [],
   "source": [
    "#Testing membership\n",
    "\n",
    "#1 in a:\n"
   ]
  },
  {
   "cell_type": "code",
   "execution_count": 20,
   "id": "360295ff-051f-4f81-9ff9-5dd186f7c02c",
   "metadata": {},
   "outputs": [
    {
     "name": "stdout",
     "output_type": "stream",
     "text": [
      "Initial sets:\n",
      "Squares:\n",
      "Cubes:\n",
      "\n",
      "After update() - squares updated with cubes:\n",
      "Squares: {64, 1, 512, 4, 8, 9, 16, 81, 343, 216, 25, 729, 27, 36, 100, 1000, 49, 125}\n",
      "\n",
      "After pop() - removed element: 64\n",
      "Squares: {1, 512, 4, 8, 9, 16, 81, 343, 216, 25, 729, 27, 36, 100, 1000, 49, 125}\n",
      "\n",
      "After remove(1):\n",
      "Squares: {512, 4, 8, 9, 16, 81, 343, 216, 25, 729, 27, 36, 100, 1000, 49, 125}\n",
      "\n",
      "After add(2):\n",
      "Squares: {512, 2, 4, 8, 9, 16, 81, 343, 216, 25, 729, 27, 36, 100, 1000, 49, 125}\n",
      "\n",
      "After clearing:\n",
      "Squares: set()\n"
     ]
    }
   ],
   "source": [
    "#WAP that creates two sets squares and cubes in range 1 to 10 .Demonstrate the use of update(), pop(),remove(), add() and clear() functions\n",
    "\n",
    "squares = {x**2 for x in range(1, 11)}\n",
    "cubes = {x**3 for x in range(1, 11)}\n",
    "print(\"Initial sets:\")\n",
    "print(\"Squares:\")\n",
    "print(\"Cubes:\")\n",
    "\n",
    "squares.update(cubes)\n",
    "print(\"\\nAfter update() - squares updated with cubes:\")\n",
    "print(\"Squares:\", squares)\n",
    "\n",
    "popped_element = squares.pop()\n",
    "print(\"\\nAfter pop() - removed element:\", popped_element)\n",
    "print(\"Squares:\", squares)\n",
    "\n",
    "squares.remove(1)  \n",
    "print(\"\\nAfter remove(1):\")\n",
    "print(\"Squares:\", squares)\n",
    "\n",
    "squares.add(2)\n",
    "print(\"\\nAfter add(2):\")\n",
    "print(\"Squares:\",squares)\n",
    "\n",
    "squares.clear()\n",
    "print(\"\\nAfter clearing:\")\n",
    "print(\"Squares:\",squares)\n",
    "\n"
   ]
  },
  {
   "cell_type": "code",
   "execution_count": 1,
   "id": "1ce56e3b-7f5a-48c1-889a-ab5146ec48df",
   "metadata": {},
   "outputs": [
    {
     "name": "stdout",
     "output_type": "stream",
     "text": [
      "Even numbers: {2, 4, 6, 8, 10, 12, 14, 16, 18, 20}\n",
      "Composite numbers: {4, 6, 8, 9, 10, 12, 14, 15, 16, 18, 20}\n",
      "All elements in even_numbers are even: True\n",
      "even_numbers is a superset of composite_numbers: False\n",
      "Number of elements in even_numbers: 10\n",
      "Number of elements in composite_numbers: 11\n",
      "Sum of elements in even_numbers: 110\n",
      "Sum of elements in composite_numbers: 132\n"
     ]
    }
   ],
   "source": [
    "#WAP that creates two sets one of even numbers in the range 1 to 20 and the other has all composite numbers 1 to 20.\n",
    "#Demonstrate the use of all(), issuperset(), len() and sum() on the sets\n",
    "\n",
    "even_numbers = {x for x in range(1,21) if x%2==0}\n",
    "composite_numbers = {x for x in range(1,21) if any (x%i==0 for i in range(2,x))}\n",
    "\n",
    "print(\"Even numbers:\", even_numbers)\n",
    "print(\"Composite numbers:\", composite_numbers)\n",
    "\n",
    "print(\"All elements in even_numbers are even:\", all(num % 2 == 0 for num in even_numbers))\n",
    "\n",
    "print(\"even_numbers is a superset of composite_numbers:\", even_numbers.issuperset(composite_numbers))\n",
    "\n",
    "print(\"Number of elements in even_numbers:\", len(even_numbers))\n",
    "print(\"Number of elements in composite_numbers:\", len(composite_numbers))\n",
    "\n",
    "print(\"Sum of elements in even_numbers:\", sum(even_numbers))\n",
    "print(\"Sum of elements in composite_numbers:\", sum(composite_numbers))\n"
   ]
  },
  {
   "cell_type": "code",
   "execution_count": 3,
   "id": "e448eaf6-e7b0-47d9-b99e-8c83c949b7cd",
   "metadata": {},
   "outputs": [
    {
     "name": "stdout",
     "output_type": "stream",
     "text": [
      "[1 2 3 4 5]\n"
     ]
    }
   ],
   "source": [
    "#NUMPY as np\n",
    "#alias -- alternate names for referring to same thing\n",
    "\n",
    "import numpy as np\n",
    "arr = np.array([1,2,3,4,5])\n",
    "print(arr)\n",
    "\n",
    "##Checking numpy version --- print(np.__version__)\n",
    "#ndarray --- n dimensional array\n",
    "#import numpy as np\n",
    "#arr = np,array([1,2,3,4,5])\n",
    "#print(arr)\n",
    "#print(type(arr))\n",
    "#arr = np,array((1,2,3,4,5))\n",
    "\n"
   ]
  },
  {
   "cell_type": "code",
   "execution_count": 5,
   "id": "6f5e66c2-086b-4a50-a9d0-f2a60ca1cc1c",
   "metadata": {},
   "outputs": [
    {
     "ename": "NameError",
     "evalue": "name 'array' is not defined",
     "output_type": "error",
     "traceback": [
      "\u001b[1;31m---------------------------------------------------------------------------\u001b[0m",
      "\u001b[1;31mNameError\u001b[0m                                 Traceback (most recent call last)",
      "Cell \u001b[1;32mIn[5], line 2\u001b[0m\n\u001b[0;32m      1\u001b[0m \u001b[38;5;66;03m#Create 0-D array with value 42\u001b[39;00m\n\u001b[1;32m----> 2\u001b[0m a\u001b[38;5;241m=\u001b[39m np,\u001b[43marray\u001b[49m(\u001b[38;5;241m42\u001b[39m)\n\u001b[0;32m      3\u001b[0m \u001b[38;5;28mprint\u001b[39m(a)\n",
      "\u001b[1;31mNameError\u001b[0m: name 'array' is not defined"
     ]
    }
   ],
   "source": [
    "#Create 0-D array with value 42\n",
    "a= np,array(42)\n",
    "print(a)"
   ]
  },
  {
   "cell_type": "markdown",
   "id": "11b0ed14-45ac-4721-adbc-3a6f3ccc18b8",
   "metadata": {},
   "source": [
    "#Create 1-D\n",
    "#Create 2-D\n",
    "#arr=np.array[[1,2,3],[4,5,6]]\n",
    "arr=np.array([[1,2,3],[4,5,6]],"
   ]
  },
  {
   "cell_type": "raw",
   "id": "a68b750d-7511-48a1-939e-5cc759702433",
   "metadata": {},
   "source": []
  },
  {
   "cell_type": "code",
   "execution_count": null,
   "id": "b8c284e5-d433-40d5-b51e-9ee5a615e8ed",
   "metadata": {},
   "outputs": [],
   "source": []
  }
 ],
 "metadata": {
  "kernelspec": {
   "display_name": "Python 3 (ipykernel)",
   "language": "python",
   "name": "python3"
  },
  "language_info": {
   "codemirror_mode": {
    "name": "ipython",
    "version": 3
   },
   "file_extension": ".py",
   "mimetype": "text/x-python",
   "name": "python",
   "nbconvert_exporter": "python",
   "pygments_lexer": "ipython3",
   "version": "3.12.4"
  }
 },
 "nbformat": 4,
 "nbformat_minor": 5
}
