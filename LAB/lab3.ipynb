{
 "cells": [
  {
   "cell_type": "code",
   "execution_count": 1,
   "id": "be824882-04f7-44e0-bddd-bae0e32a523f",
   "metadata": {},
   "outputs": [
    {
     "name": "stdout",
     "output_type": "stream",
     "text": [
      "2 * 1 = 2\n",
      "2 * 2 = 4\n",
      "2 * 3 = 6\n",
      "2 * 4 = 8\n",
      "2 * 5 = 10\n",
      "2 * 6 = 12\n",
      "2 * 7 = 14\n",
      "2 * 8 = 16\n",
      "2 * 9 = 18\n",
      "2 * 10 = 20\n",
      "\n",
      "3 * 1 = 3\n",
      "3 * 2 = 6\n",
      "3 * 3 = 9\n",
      "3 * 4 = 12\n",
      "3 * 5 = 15\n",
      "3 * 6 = 18\n",
      "3 * 7 = 21\n",
      "3 * 8 = 24\n",
      "3 * 9 = 27\n",
      "3 * 10 = 30\n",
      "\n"
     ]
    }
   ],
   "source": [
    "for i  in range(2,4):\n",
    "    for j in range(1,11):\n",
    "        print(i,'*',j,'=',i*j)\n",
    "    print()\n",
    "        "
   ]
  },
  {
   "cell_type": "code",
   "execution_count": 4,
   "id": "26d9bceb-19e5-404b-be52-4a4731b5dd16",
   "metadata": {},
   "outputs": [
    {
     "name": "stdout",
     "output_type": "stream",
     "text": [
      "*\n",
      "**\n",
      "***\n",
      "****\n",
      "*****\n"
     ]
    }
   ],
   "source": [
    "# nested loop to print pattern\n",
    "rows=5\n",
    "for i in range (1, rows+1):\n",
    "    for j in range(1, i+1):\n",
    "        print(\"*\",end=\"\")\n",
    "    print('')"
   ]
  },
  {
   "cell_type": "code",
   "execution_count": 6,
   "id": "9df6229a-3681-436e-a750-554a0fc12859",
   "metadata": {},
   "outputs": [
    {
     "name": "stdout",
     "output_type": "stream",
     "text": [
      "kellykellykellykellykelly\n",
      "jessajessajessajessajessa\n",
      "emmaemmaemmaemmaemma\n"
     ]
    }
   ],
   "source": [
    "names=['kelly','jessa','emma']\n",
    "for name in names:\n",
    "    count = 0\n",
    "    while count<5:\n",
    "        print(name,end='')\n",
    "        count+=1\n",
    "    print()"
   ]
  },
  {
   "cell_type": "code",
   "execution_count": 15,
   "id": "73a0bf58-de18-4569-b703-022799ed4feb",
   "metadata": {},
   "outputs": [
    {
     "name": "stdout",
     "output_type": "stream",
     "text": [
      "    1 \n",
      "   2 2 \n",
      "  3 3 3 \n",
      " 4 4 4 4 \n",
      "5 5 5 5 5 \n"
     ]
    }
   ],
   "source": [
    "n=5\n",
    "for i in range(1,n+1):\n",
    "    for k in range(n,i,-1):\n",
    "        print(\" \",end='')\n",
    "    for j in range(1,i+1):\n",
    "        print(i,\"\",end='')\n",
    "    print()"
   ]
  },
  {
   "cell_type": "code",
   "execution_count": 1,
   "id": "cb26ab3e-2f4f-43ce-a157-c9a0fa788eeb",
   "metadata": {},
   "outputs": [
    {
     "name": "stdout",
     "output_type": "stream",
     "text": [
      "***\n",
      "***\n",
      "***\n",
      "***\n",
      "***\n"
     ]
    }
   ],
   "source": [
    "#print rectangle pattern with 5 rows and 3 columns\n",
    "\n",
    "n=5\n",
    "for i in range(1,6):\n",
    "    for j in range(1,4):\n",
    "        print(\"*\",end='')\n",
    "    print('')\n",
    "\n"
   ]
  },
  {
   "cell_type": "code",
   "execution_count": 6,
   "id": "0cb23fe6-a570-48f3-b5ed-091a45537ac0",
   "metadata": {},
   "outputs": [
    {
     "name": "stdin",
     "output_type": "stream",
     "text": [
      "Enter a number: 2\n"
     ]
    },
    {
     "name": "stdout",
     "output_type": "stream",
     "text": [
      "prime\n"
     ]
    }
   ],
   "source": [
    "#WAP to ClASSIFY A GIVEN NUMBER AS PRIME OR NON PRIME\n",
    "#WAP using for loop to calc factorial of a number\n",
    "\n",
    "\n",
    "\n",
    "n=int(input(\"Enter a number:\"))\n",
    "flag = 0\n",
    "if n==0 or n==1:\n",
    "    print(\"Non prime number\")\n",
    "elif n>1:\n",
    "    for i in range(2,n):\n",
    "        if(num%i)==0:\n",
    "            flag=1\n",
    "            \n",
    "    if (flag==1):\n",
    "        print(\"non prime\")\n",
    "    else:\n",
    "        print(\"prime\")\n",
    "            \n"
   ]
  },
  {
   "cell_type": "code",
   "execution_count": 9,
   "id": "839d85bf-445e-4082-b134-a9d33eb08b54",
   "metadata": {},
   "outputs": [
    {
     "name": "stdin",
     "output_type": "stream",
     "text": [
      "Enter a number: 3\n"
     ]
    },
    {
     "name": "stdout",
     "output_type": "stream",
     "text": [
      "The factorial of the number is: 6\n"
     ]
    }
   ],
   "source": [
    "n=int(input(\"Enter a number:\"))\n",
    "fact=1\n",
    "if n<0:\n",
    "    print(\"factorial doesnot exist\")\n",
    "elif n==0:\n",
    "    print(\"fact is 1\")\n",
    "else:\n",
    "    for i in range(1,n+1):\n",
    "        fact=fact*i\n",
    "print(\"The factorial of the number is:\",fact)"
   ]
  },
  {
   "cell_type": "code",
   "execution_count": null,
   "id": "237557db-6e8e-460b-9f3a-f3244cc6a045",
   "metadata": {},
   "outputs": [],
   "source": [
    "#wap that displays all leap years from 1900 to 2101\n"
   ]
  },
  {
   "cell_type": "code",
   "execution_count": 31,
   "id": "97130b52-437a-482e-8cb9-aba191e86f02",
   "metadata": {},
   "outputs": [
    {
     "name": "stdin",
     "output_type": "stream",
     "text": [
      "Enter a year: 2100\n"
     ]
    },
    {
     "name": "stdout",
     "output_type": "stream",
     "text": [
      "Non leap year\n"
     ]
    }
   ],
   "source": [
    "year =int(input(\"Enter a year:\"))\n",
    "\n",
    "if year%100==0:\n",
    "    if year%400==0:\n",
    "        print(\"Leap year\")\n",
    "    else:\n",
    "        print(\"Non leap year\")\n",
    "else:\n",
    "    if year%4==0:\n",
    "        print(\"leap year\")\n",
    "    else:\n",
    "        print(\"Non leap\")\n",
    "        \n",
    "        "
   ]
  },
  {
   "cell_type": "code",
   "execution_count": 23,
   "id": "395f76a6-74d2-45f9-b912-ba5cb0430ede",
   "metadata": {},
   "outputs": [
    {
     "name": "stdin",
     "output_type": "stream",
     "text": [
      "Enter a number: 3\n"
     ]
    },
    {
     "name": "stdout",
     "output_type": "stream",
     "text": [
      "series 1.8333333333333333\n"
     ]
    }
   ],
   "source": [
    "#wap to print the series 1+1/2 +....1/n\n",
    "\n",
    "n=int(input(\"Enter a number:\"))\n",
    "sum=0\n",
    "for i in range(1,n+1):\n",
    "     sum+=1/i\n",
    "print(\"series\", sum)\n",
    "        "
   ]
  },
  {
   "cell_type": "code",
   "execution_count": 25,
   "id": "2c3455e0-fa6c-4bbc-8301-77154a54845f",
   "metadata": {},
   "outputs": [
    {
     "name": "stdout",
     "output_type": "stream",
     "text": [
      "1 0\n",
      "2 0\n",
      "2 1\n",
      "3 0\n",
      "3 1\n",
      "3 2\n"
     ]
    }
   ],
   "source": [
    "for i in range(4):\n",
    "    for j in range(4):\n",
    "        if j==i:\n",
    "            break\n",
    "        print(i,j)"
   ]
  },
  {
   "cell_type": "code",
   "execution_count": 29,
   "id": "f1cd1a16-0d40-40bd-a65c-d8562d4c6ffd",
   "metadata": {},
   "outputs": [
    {
     "name": "stdout",
     "output_type": "stream",
     "text": [
      "2 * 4 = 8\n",
      "2 * 6 = 12\n",
      "4 * 2 = 8\n",
      "4 * 6 = 24\n",
      "6 * 2 = 12\n",
      "6 * 4 = 24\n"
     ]
    }
   ],
   "source": [
    "first=[2,4,6]\n",
    "second=[2,4,6]\n",
    "for i in first:\n",
    "    for j in second:\n",
    "        if i==j:\n",
    "            continue\n",
    "        print(i,'*',j,\"=\",i*j)"
   ]
  },
  {
   "cell_type": "code",
   "execution_count": 32,
   "id": "7ff125a3-3ade-48c1-a382-22e45e7f2a42",
   "metadata": {},
   "outputs": [
    {
     "name": "stdout",
     "output_type": "stream",
     "text": [
      "list1[0]: a\n",
      "list2[1:5]: [2, 3, 4, 5]\n"
     ]
    }
   ],
   "source": [
    "list1=['a','b','char','199'];\n",
    "list2=[1,2,3,4,5,6,7];\n",
    "print(\"list1[0]:\",list1[0])\n",
    "print(\"list2[1:5]:\",list2[1:5])"
   ]
  },
  {
   "cell_type": "code",
   "execution_count": 35,
   "id": "60a94d2a-7276-45db-abc8-85cba3f7694d",
   "metadata": {},
   "outputs": [
    {
     "name": "stdout",
     "output_type": "stream",
     "text": [
      "Accessing a element from multi dimensional list\n",
      "john\n",
      "harry\n"
     ]
    }
   ],
   "source": [
    "list=[['marry','john'],['harry']]\n",
    "print(\"Accessing a element from multi dimensional list\")\n",
    "print(list[0][1])\n",
    "print(list[1][0])"
   ]
  },
  {
   "cell_type": "code",
   "execution_count": 37,
   "id": "62747d3d-ecf7-4124-8aa6-855fab820f5f",
   "metadata": {},
   "outputs": [
    {
     "name": "stdout",
     "output_type": "stream",
     "text": [
      "7\n",
      "5\n"
     ]
    }
   ],
   "source": [
    "#negative indexing\n",
    "list=[1,2,3,4,5,6,7];\n",
    "print(list[-1])\n",
    "print(list[-3])"
   ]
  },
  {
   "cell_type": "code",
   "execution_count": 1,
   "id": "1428dbda-d8dc-467f-8125-4ca09a2abeb0",
   "metadata": {},
   "outputs": [
    {
     "name": "stdout",
     "output_type": "stream",
     "text": [
      "Initial list: ['G', 'E', 'E', 'K', 'S', 'F', 'O', 'R', 'G', 'E', 'E', 'K', 'S']\n",
      "['G', 'E', 'E', 'K', 'S', 'F', 'O']\n",
      "['R', 'G', 'E', 'E', 'K']\n"
     ]
    }
   ],
   "source": [
    "#slicing opeartions\n",
    "List=['G','E','E','K','S','F','O','R','G','E','E','K','S']\n",
    "print(\"Initial list:\",List)\n",
    "sliced_list = List[:-6]\n",
    "print(sliced_list)\n",
    "sliced_list = List[-6:-1]\n",
    "print(sliced_list)"
   ]
  },
  {
   "cell_type": "code",
   "execution_count": null,
   "id": "b0e51ed9-6b52-4e4d-8eaf-9e70872c530d",
   "metadata": {},
   "outputs": [],
   "source": []
  }
 ],
 "metadata": {
  "kernelspec": {
   "display_name": "Python 3 (ipykernel)",
   "language": "python",
   "name": "python3"
  },
  "language_info": {
   "codemirror_mode": {
    "name": "ipython",
    "version": 3
   },
   "file_extension": ".py",
   "mimetype": "text/x-python",
   "name": "python",
   "nbconvert_exporter": "python",
   "pygments_lexer": "ipython3",
   "version": "3.12.4"
  }
 },
 "nbformat": 4,
 "nbformat_minor": 5
}
