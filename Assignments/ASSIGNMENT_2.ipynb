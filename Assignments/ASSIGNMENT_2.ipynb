{
 "cells": [
  {
   "cell_type": "markdown",
   "id": "45aea2b7-adea-42be-b8ed-fb28ad87c01b",
   "metadata": {},
   "source": [
    "ASSIGNMENT 2"
   ]
  },
  {
   "cell_type": "code",
   "execution_count": 9,
   "id": "6fc2c3b3-5c3f-4299-a76a-7b54ae1385e7",
   "metadata": {},
   "outputs": [
    {
     "name": "stdin",
     "output_type": "stream",
     "text": [
      "Enter first number: 2\n",
      "Enter second number: 3\n",
      "Enter third number: 4\n"
     ]
    },
    {
     "name": "stdout",
     "output_type": "stream",
     "text": [
      "4.0\n"
     ]
    }
   ],
   "source": [
    "#QUESTION 1\n",
    "# WAP that finds greatest of three numbers as functions. Pass the numbers as arguments.\n",
    "\n",
    "def greatest(num1,num2,num3):\n",
    "    if num1>num2 and num1>num3:\n",
    "        return num1\n",
    "    elif num2>num1 and num2>num3:\n",
    "        return num2\n",
    "    else:\n",
    "        return num3\n",
    "number1 =float(input(\"Enter first number:\"))\n",
    "number2 =float(input(\"Enter second number:\"))\n",
    "number3 =float(input(\"Enter third number:\"))\n",
    "\n",
    "greatest_number = greatest(number1,number2,number3)\n",
    "print(greatest_number)\n",
    "\n",
    "    "
   ]
  },
  {
   "cell_type": "code",
   "execution_count": 2,
   "id": "27348b84-8023-49d8-8505-571e24f0079c",
   "metadata": {},
   "outputs": [
    {
     "name": "stdin",
     "output_type": "stream",
     "text": [
      "Enter number of objects: 3\n",
      "Enter number of selected items: 2\n"
     ]
    },
    {
     "name": "stdout",
     "output_type": "stream",
     "text": [
      "Number of permutations: 6.0\n",
      "Number of combinations: 3.0\n"
     ]
    }
   ],
   "source": [
    "#QUESTION 2\n",
    "# WAP to implement this formula of permuattation and combinations.\n",
    "# Number of permutations of n objects taken r at a time: p(n.r)=n!/(n-r)!\n",
    "# Number of combinations of n objects taken r at a time: c(n,r)=n!/(r!*(n-r)!)=p(n,r)/r!\n",
    "def fact(n):\n",
    "    if n == 0 or n == 1:\n",
    "        return 1\n",
    "    else:\n",
    "        return n * fact(n - 1)\n",
    "n=int(input(\"Enter number of objects:\"))\n",
    "r=int(input(\"Enter number of selected items:\"))\n",
    "p = fact(n)/fact(n-r)\n",
    "c=p/fact(r)\n",
    "print(\"Number of permutations:\",p)\n",
    "print(\"Number of combinations:\",c)\n",
    "\n"
   ]
  },
  {
   "cell_type": "code",
   "execution_count": 6,
   "id": "b366f8b5-2102-4a24-8667-34e0f9845934",
   "metadata": {},
   "outputs": [
    {
     "name": "stdout",
     "output_type": "stream",
     "text": [
      "153 is an Armstrong number.\n",
      "Armstrong numbers between 100 and 999 are:\n",
      "153\n",
      "370\n",
      "371\n",
      "407\n"
     ]
    }
   ],
   "source": [
    "#QUESTION 3\n",
    "#Write a function cubesum() that accepts an integer and returns the sum of the cubes of individual digits of that number.\n",
    "#Use this function to make functions PrintArmstrong() and isArmstrong() to print Armstrong numbers and to find whether it is an Armstrong number.\n",
    "\n",
    "def cubesum(n):\n",
    "   \n",
    "    return sum(int(digit) ** 3 for digit in str(n))\n",
    "\n",
    "def isArmstrong(n):\n",
    "   \n",
    "    return n == cubesum(n)\n",
    "\n",
    "def printArmstrong(start, end):\n",
    "   \n",
    "    for num in range(start, end + 1):\n",
    "        if isArmstrong(num):\n",
    "            print(num)\n",
    "\n",
    "number = 153\n",
    "if isArmstrong(number):\n",
    "    print(f\"{number} is an Armstrong number.\")\n",
    "else:\n",
    "    print(f\"{number} is not an Armstrong number.\")\n",
    "\n",
    "print(\"Armstrong numbers between 100 and 999 are:\")\n",
    "printArmstrong(100, 999)\n"
   ]
  },
  {
   "cell_type": "code",
   "execution_count": 13,
   "id": "8df470e3-dba6-4170-9a79-755498e8ed97",
   "metadata": {},
   "outputs": [
    {
     "name": "stdout",
     "output_type": "stream",
     "text": [
      "[1, 4, 9, 16, 25, 36, 49, 64, 81, 100, 121, 144, 169, 196, 225, 256, 289, 324, 361, 400, 441, 484, 529, 576, 625, 676, 729, 784, 841, 900]\n"
     ]
    }
   ],
   "source": [
    "#QUESTION 4\n",
    "#Write a Python function to create and print a list where the values are the squares of\n",
    "#numbers between 1 and 30 (both included)\n",
    "\n",
    "def print_squares():\n",
    "   \n",
    "    squares = [i ** 2 for i in range(1, 31)]\n",
    "    print(squares)\n",
    "\n",
    "print_squares()\n"
   ]
  },
  {
   "cell_type": "code",
   "execution_count": 14,
   "id": "71cd7326-91ee-498e-942d-d3096a8b48f1",
   "metadata": {},
   "outputs": [
    {
     "name": "stdout",
     "output_type": "stream",
     "text": [
      "12345678\n"
     ]
    }
   ],
   "source": [
    "#QUESTION 5\n",
    "#Given a string s = “1234” and an integer n = 5678, concatenate them as a single string\n",
    "#and then convert the result back to an integer. What is the final integer value?\n",
    "\n",
    "s = \"1234\"\n",
    "n = 5678\n",
    "\n",
    "n_str = str(n)\n",
    "\n",
    "concatenated_str = s + n_str\n",
    "\n",
    "final_integer = int(concatenated_str)\n",
    "\n",
    "print(final_integer)\n"
   ]
  },
  {
   "cell_type": "code",
   "execution_count": 16,
   "id": "2edb425b-cc59-444d-b629-43589e21990b",
   "metadata": {},
   "outputs": [
    {
     "name": "stdin",
     "output_type": "stream",
     "text": [
      "Please enter a positive integer:  -9\n"
     ]
    },
    {
     "name": "stdout",
     "output_type": "stream",
     "text": [
      "That's not a positive integer. Please try again.\n"
     ]
    },
    {
     "name": "stdin",
     "output_type": "stream",
     "text": [
      "Please enter a positive integer:  0\n"
     ]
    },
    {
     "name": "stdout",
     "output_type": "stream",
     "text": [
      "That's not a positive integer. Please try again.\n"
     ]
    },
    {
     "name": "stdin",
     "output_type": "stream",
     "text": [
      "Please enter a positive integer:  8\n"
     ]
    },
    {
     "name": "stdout",
     "output_type": "stream",
     "text": [
      "Thank you! You entered a positive integer: 8\n"
     ]
    },
    {
     "data": {
      "text/plain": [
       "8"
      ]
     },
     "execution_count": 16,
     "metadata": {},
     "output_type": "execute_result"
    }
   ],
   "source": [
    "#QUESTION 6\n",
    "#Write a Python program repeatedly asking the user to enter a positive integer. If the\n",
    "#user enters a negative number or zero, the program should ask again until a positive\n",
    "#integer is entered.\n",
    "\n",
    "def get_positive_integer():\n",
    "  \n",
    "    while True:\n",
    "        try:\n",
    "            number = int(input(\"Please enter a positive integer: \"))\n",
    "            if number > 0:\n",
    "                print(f\"Thank you! You entered a positive integer: {number}\")\n",
    "                return number\n",
    "            else:\n",
    "                print(\"That's not a positive integer. Please try again.\")\n",
    "        except ValueError:\n",
    "            print(\"Invalid input. Please enter a valid integer.\")\n",
    "\n",
    "get_positive_integer()\n"
   ]
  },
  {
   "cell_type": "code",
   "execution_count": null,
   "id": "c80662b6-5a2e-4ac3-a45b-60608c2fc047",
   "metadata": {},
   "outputs": [],
   "source": []
  }
 ],
 "metadata": {
  "kernelspec": {
   "display_name": "Python 3 (ipykernel)",
   "language": "python",
   "name": "python3"
  },
  "language_info": {
   "codemirror_mode": {
    "name": "ipython",
    "version": 3
   },
   "file_extension": ".py",
   "mimetype": "text/x-python",
   "name": "python",
   "nbconvert_exporter": "python",
   "pygments_lexer": "ipython3",
   "version": "3.12.4"
  }
 },
 "nbformat": 4,
 "nbformat_minor": 5
}
