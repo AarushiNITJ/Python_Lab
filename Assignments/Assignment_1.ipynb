{
 "cells": [
  {
   "cell_type": "code",
   "execution_count": 10,
   "id": "06ae0b3f-6b61-4e07-b9a3-38783df70300",
   "metadata": {},
   "outputs": [
    {
     "name": "stdin",
     "output_type": "stream",
     "text": [
      "Enter value of x1: 5\n",
      "Enter value of y1: 7\n",
      "Enter value of x2: 2\n",
      "Enter value of y2: 3\n"
     ]
    },
    {
     "name": "stdout",
     "output_type": "stream",
     "text": [
      "Distance between points {x1}, {y1} and {x2}, {y2} is 5.0\n"
     ]
    }
   ],
   "source": [
    "#Question1 --- Write a program to calculate the distance between two points.\n",
    "\n",
    "x1= int(input(\"Enter value of x1:\"))\n",
    "y1= int(input(\"Enter value of y1:\"))\n",
    "x2= int(input(\"Enter value of x2:\"))\n",
    "y2= int(input(\"Enter value of y2:\"))\n",
    "\n",
    "def calculate_distance(x1, y1, x2, y2):\n",
    "    dx = x2 - x1\n",
    "    dy = y2 - y1\n",
    "    distance = (dx * dx + dy * dy) ** 0.5\n",
    "    return distance\n",
    "\n",
    "distance = calculate_distance(x1, y1, x2, y2)\n",
    "print(\"Distance between points {x1}, {y1} and {x2}, {y2} is\", distance)"
   ]
  },
  {
   "cell_type": "code",
   "execution_count": 16,
   "id": "ff30b81e-0d12-46fc-82d8-cc1544ae4c5c",
   "metadata": {},
   "outputs": [
    {
     "name": "stdin",
     "output_type": "stream",
     "text": [
      "Enter value of a: 3\n",
      "Enter value of b: 4\n",
      "Enter value of c: 5\n"
     ]
    },
    {
     "name": "stdout",
     "output_type": "stream",
     "text": [
      "The area of the triangle with sides {a}, {b}, and {c} is  6.0\n"
     ]
    }
   ],
   "source": [
    "#Question2 --- Write a program to calculate the area of a triangle using Heron's formula.\n",
    "\n",
    "a= float(input(\"Enter value of a:\"))\n",
    "b= float(input(\"Enter value of b:\"))\n",
    "c= float(input(\"Enter value of c:\"))\n",
    "\n",
    "def calculate_area(a, b, c):\n",
    "    # Calculate the semi-perimeter\n",
    "    s = (a + b + c) / 2\n",
    "    \n",
    "    # Calculate the area using Heron's formula\n",
    "    area = (s * (s - a) * (s - b) * (s - c)) ** 0.5\n",
    "    return area\n",
    "    \n",
    "area = calculate_area(a, b, c)\n",
    "print(\"The area of the triangle with sides {a}, {b}, and {c} is \", area)"
   ]
  },
  {
   "cell_type": "code",
   "execution_count": 2,
   "id": "657d328b-9d96-4710-976d-fe48ffdd6530",
   "metadata": {},
   "outputs": [
    {
     "name": "stdin",
     "output_type": "stream",
     "text": [
      "Enter quantity sold =  34\n",
      "Enter value =  45\n",
      "Enter discount =  4\n",
      "Enter tax =  3\n"
     ]
    },
    {
     "name": "stdout",
     "output_type": "stream",
     "text": [
      "The final bill amount is 1512.864\n",
      "The final integer value is 12345678\n"
     ]
    }
   ],
   "source": [
    "#Question3 --- Write a program to calculate the bill amount for an item given its quantity sold, value, discount, and tax. Given a string s = \"1234\"\n",
    "#and an integer n = 5678, concatenate them as a single string and then convert the result back to an integer. What is the final integer value?\n",
    "\n",
    "#PART_A\n",
    "quantity_sold= float(input(\"Enter quantity sold = \"))\n",
    "value= float(input(\"Enter value = \"))\n",
    "discount = float(input(\"Enter discount = \"))   #in %\n",
    "tax = float(input(\"Enter tax = \"))             #in %\n",
    "\n",
    "def calculate_bill(quantity_sold, value, discount, tax):\n",
    "    total_value = quantity_sold * value\n",
    "    discount_amount = total_value * (discount / 100)\n",
    "    total_value_after_discount = total_value - discount_amount\n",
    "    tax_amount = total_value_after_discount * (tax / 100)\n",
    "    final_amount = total_value_after_discount + tax_amount\n",
    "    return final_amount\n",
    "\n",
    "bill_amount = calculate_bill(quantity_sold, value, discount, tax)\n",
    "print(\"The final bill amount is\",bill_amount)\n",
    "\n",
    "#PART_B\n",
    "s = \"1234\"\n",
    "n = 5678\n",
    "\n",
    "concatenated_string = s + str(n)\n",
    "final_integer = int(concatenated_string)\n",
    "\n",
    "print(\"The final integer value is\", final_integer)\n",
    "\n",
    "\n"
   ]
  },
  {
   "cell_type": "code",
   "execution_count": 3,
   "id": "3b782002-c2b2-4d66-9162-500818c70797",
   "metadata": {},
   "outputs": [
    {
     "name": "stdout",
     "output_type": "stream",
     "text": [
      "After swapping: a = 3 b = 7\n"
     ]
    }
   ],
   "source": [
    "#Question4 --- Given two variables, a = 7 and b = 3, write a Python code snippet to swap their values without using a temporary variable. \n",
    "#What will be the values of a and b after the swap?\n",
    "\n",
    "a = 7\n",
    "b = 3\n",
    "\n",
    "# Swap the values\n",
    "a = a + b\n",
    "b = a - b\n",
    "a = a - b\n",
    "\n",
    "print(\"After swapping:\", \"a =\", a, \"b =\",b)\n"
   ]
  },
  {
   "cell_type": "code",
   "execution_count": 26,
   "id": "e2752de8-c1e8-49e5-b8a6-7f822c76a830",
   "metadata": {},
   "outputs": [
    {
     "name": "stdout",
     "output_type": "stream",
     "text": [
      "The average is: 30.0\n"
     ]
    }
   ],
   "source": [
    "#Question5 --- Given a list of numbers = [10, 20, 30, 40, 50], write a Python code snippet to calculate the average of these numbers using arithmetic operators.\n",
    "\n",
    "numbers = [10, 20, 30, 40, 50]\n",
    "total_sum = 0\n",
    "for n in numbers:\n",
    "    total_sum += n\n",
    "count = 0\n",
    "for n in numbers:\n",
    "    count += 1\n",
    "    \n",
    "average = total_sum / count\n",
    "print(\"The average is:\", average)\n"
   ]
  },
  {
   "cell_type": "code",
   "execution_count": 2,
   "id": "39db6ecf-9835-42be-a945-c37b11203a1c",
   "metadata": {},
   "outputs": [
    {
     "name": "stdout",
     "output_type": "stream",
     "text": [
      "Select operation:\n",
      "1. Add\n",
      "2. Subtract\n",
      "3. Multiply\n",
      "4. Divide\n"
     ]
    },
    {
     "name": "stdin",
     "output_type": "stream",
     "text": [
      "Enter your choice of operation (1/2/3/4):  1\n",
      "Enter first number:  2\n",
      "Enter second number:  3\n"
     ]
    },
    {
     "name": "stdout",
     "output_type": "stream",
     "text": [
      "a + b =  5.0\n"
     ]
    }
   ],
   "source": [
    "#Question6 --- Write a simple basic calculator program in python.Direction:\n",
    "\n",
    "def add(x, y):\n",
    "    return x + y\n",
    "\n",
    "def subtract(x, y):\n",
    "    return x - y\n",
    "\n",
    "def multiply(x, y):\n",
    "    return x * y\n",
    "\n",
    "def divide(x, y):\n",
    "    if y != 0:\n",
    "        return x / y\n",
    "    else:\n",
    "        return \"ERROR, DENOMINATOR IS ZERO!\"\n",
    "\n",
    "print(\"Select operation:\")\n",
    "print(\"1. Add\")\n",
    "print(\"2. Subtract\")\n",
    "print(\"3. Multiply\")\n",
    "print(\"4. Divide\")\n",
    "\n",
    "n = input(\"Enter your choice of operation (1/2/3/4): \")\n",
    "\n",
    "x = float(input(\"Enter first number: \"))\n",
    "y = float(input(\"Enter second number: \"))\n",
    "\n",
    "if n == '1':\n",
    "    print(\"a + b = \",add(x, y))\n",
    "elif n == '2':\n",
    "    print(\"x - y = \",subtract(x, y))\n",
    "elif n == '3':\n",
    "    print(\"x * y = \",multiply(x, y))\n",
    "elif n == '4':\n",
    "    print(\"x / y =\",divide(x, y))\n",
    "else:\n",
    "    print(\"Invalid input\")\n",
    "\n"
   ]
  },
  {
   "cell_type": "code",
   "execution_count": null,
   "id": "ba762bab-af87-4444-9039-3ee90c615cda",
   "metadata": {},
   "outputs": [],
   "source": []
  }
 ],
 "metadata": {
  "kernelspec": {
   "display_name": "Python 3 (ipykernel)",
   "language": "python",
   "name": "python3"
  },
  "language_info": {
   "codemirror_mode": {
    "name": "ipython",
    "version": 3
   },
   "file_extension": ".py",
   "mimetype": "text/x-python",
   "name": "python",
   "nbconvert_exporter": "python",
   "pygments_lexer": "ipython3",
   "version": "3.12.4"
  }
 },
 "nbformat": 4,
 "nbformat_minor": 5
}
