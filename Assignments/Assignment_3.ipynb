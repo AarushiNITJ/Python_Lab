{
 "cells": [
  {
   "cell_type": "markdown",
   "id": "972043da-4f0f-49df-8986-a278c8c665b5",
   "metadata": {},
   "source": [
    "# ASSIGNMENT 3"
   ]
  },
  {
   "cell_type": "code",
   "execution_count": 2,
   "id": "83f5241a-b668-4e77-8de4-d918aaa899b1",
   "metadata": {},
   "outputs": [
    {
     "name": "stdin",
     "output_type": "stream",
     "text": [
      "Enter your name:  Aarushi\n",
      "Enter your PAN card number:  3673372782\n"
     ]
    },
    {
     "name": "stdout",
     "output_type": "stream",
     "text": [
      "Name: Aarushi\n",
      "PAN card number: 3673372782\n"
     ]
    }
   ],
   "source": [
    "#QUESTION 1\n",
    "# Write a program that takes the user's name and pan card number as input. Validate the information using isX function and print the details.\n",
    "\n",
    "def is_valid_name(name):\n",
    "    return name.isalpha()\n",
    "\n",
    "def is_valid_pan(pan):\n",
    "    return len(pan) == 10 and pan.isalnum()\n",
    "\n",
    "name = input(\"Enter your name: \")\n",
    "pan = input(\"Enter your PAN card number: \")\n",
    "\n",
    "if is_valid_name(name) and is_valid_pan(pan):\n",
    "    print(\"Name:\", name)\n",
    "    print(\"PAN card number:\", pan)\n",
    "else:\n",
    "    print(\"Invalid name or PAN card number.\")\n",
    "\n",
    "\n"
   ]
  },
  {
   "cell_type": "code",
   "execution_count": 3,
   "id": "5184553f-007c-41bc-989f-7aa12e4b8ae3",
   "metadata": {},
   "outputs": [
    {
     "name": "stdout",
     "output_type": "stream",
     "text": [
      "['abc', 'abcd', 'acce']\n"
     ]
    }
   ],
   "source": [
    "#QUESTION 2\n",
    "# Write a program to generate an Abecedarian series. (a series in which elements appears in an alphabetical order)\n",
    "\n",
    "def is_abecedarian(word):\n",
    "\n",
    "    for i in range(len(word) - 1):\n",
    "        if word[i] > word[i + 1]:\n",
    "            return False\n",
    "    return True\n",
    "\n",
    "def generate_abecedarian_series(words):\n",
    "    abecedarian_words = []\n",
    "    for word in words:\n",
    "        if is_abecedarian(word):\n",
    "            abecedarian_words.append(word)\n",
    "    return abecedarian_words\n",
    "\n",
    "word_list = [\"abc\", \"abcd\", \"aba\", \"acce\", \"gap\"]\n",
    "\n",
    "print(generate_abecedarian_series(word_list))\n"
   ]
  },
  {
   "cell_type": "code",
   "execution_count": 5,
   "id": "46ec7f4d-384f-4d74-9241-5cffcabd85b6",
   "metadata": {},
   "outputs": [
    {
     "name": "stdout",
     "output_type": "stream",
     "text": [
      "The character 'o' occurs 2 times in the string 'hello world'.\n"
     ]
    }
   ],
   "source": [
    "# QUESTION 3\n",
    "# Write a program that counts the occurrences of a character in a string. Do not use built in functions. \n",
    "\n",
    "def count_occurrences(string, char):\n",
    "    count = 0  \n",
    "\n",
    "    for c in string:  \n",
    "        if c == char:  \n",
    "            count += 1  \n",
    "\n",
    "    return count  \n",
    "\n",
    "input_string = \"hello world\"\n",
    "target_char = \"o\"\n",
    "print(\"The character '{}' occurs {} times in the string '{}'.\".format(target_char, count_occurrences(input_string, target_char), input_string))\n",
    "\n"
   ]
  },
  {
   "cell_type": "code",
   "execution_count": 6,
   "id": "dbe0c46e-31dd-4e4d-b2b5-435c57589f65",
   "metadata": {},
   "outputs": [
    {
     "name": "stdout",
     "output_type": "stream",
     "text": [
      "7\n"
     ]
    }
   ],
   "source": [
    "#QUESTION 4\n",
    "# Write a function that takes a list of words and returns the length of the longest one.\n",
    "\n",
    "def longest_word_length(words):\n",
    "    max_length = 0  \n",
    "\n",
    "    for word in words:  \n",
    "        if len(word) > max_length:  \n",
    "            max_length = len(word)  \n",
    "\n",
    "    return max_length \n",
    "\n",
    "word_list = [\"aarushi\", \"hi\", \"hello\", \"day\"]\n",
    "print(longest_word_length(word_list))  \n"
   ]
  },
  {
   "cell_type": "code",
   "execution_count": 7,
   "id": "e61c053c-641f-4c46-937b-91a13b836fec",
   "metadata": {},
   "outputs": [
    {
     "name": "stdout",
     "output_type": "stream",
     "text": [
      "ab\n"
     ]
    }
   ],
   "source": [
    "# QUESTION 5\n",
    "# Write a function to get the first half of half of a specified string of even length.\n",
    "\n",
    "def first_half_of_half(s):\n",
    "    n = len(s)\n",
    "    if n % 2 != 0:\n",
    "        return \"The string length is not even\"\n",
    "    \n",
    "    half_length = n // 2  \n",
    "    first_half_of_half = s[:half_length // 2]  \n",
    "    return first_half_of_half\n",
    "\n",
    "string = \"abcdefgh\"\n",
    "print(first_half_of_half(string)) \n"
   ]
  },
  {
   "cell_type": "code",
   "execution_count": 8,
   "id": "0b4ae389-3d6d-4fd1-82a3-7ce365cf7291",
   "metadata": {},
   "outputs": [
    {
     "name": "stdout",
     "output_type": "stream",
     "text": [
      "wollo herld\n"
     ]
    }
   ],
   "source": [
    "# QUESTION 6\n",
    "# Write a program to get a single string from two given strings separated by a space and swap the first two characters of each string.\n",
    "\n",
    "def swap_and_combine(s1, s2):\n",
    "    new_s1 = s2[:2] + s1[2:]\n",
    "    new_s2 = s1[:2] + s2[2:]\n",
    "    \n",
    "    result = new_s1 + \" \" + new_s2\n",
    "    return result\n",
    "\n",
    "string1 = \"hello\"\n",
    "string2 = \"world\"\n",
    "print(swap_and_combine(string1, string2))  \n"
   ]
  },
  {
   "cell_type": "code",
   "execution_count": 9,
   "id": "a38756a3-b1fb-467c-a10b-e99cc006f617",
   "metadata": {},
   "outputs": [
    {
     "name": "stdout",
     "output_type": "stream",
     "text": [
      "12\n"
     ]
    }
   ],
   "source": [
    "#QUEESTION 7\n",
    "# Write a program to print floating point numbers with no decimal places.\n",
    "\n",
    "def print_no_decimal(number):\n",
    "    no_decimal = int(number)\n",
    "    print(no_decimal)\n",
    "\n",
    "num = 12.56\n",
    "print_no_decimal(num)  \n"
   ]
  },
  {
   "cell_type": "code",
   "execution_count": null,
   "id": "d2ddd8fd-9b6a-4971-982e-a055cfd6e947",
   "metadata": {},
   "outputs": [],
   "source": []
  }
 ],
 "metadata": {
  "kernelspec": {
   "display_name": "Python 3 (ipykernel)",
   "language": "python",
   "name": "python3"
  },
  "language_info": {
   "codemirror_mode": {
    "name": "ipython",
    "version": 3
   },
   "file_extension": ".py",
   "mimetype": "text/x-python",
   "name": "python",
   "nbconvert_exporter": "python",
   "pygments_lexer": "ipython3",
   "version": "3.12.4"
  }
 },
 "nbformat": 4,
 "nbformat_minor": 5
}
