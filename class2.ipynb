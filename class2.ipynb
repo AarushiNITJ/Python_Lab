{
 "cells": [
  {
   "cell_type": "code",
   "execution_count": 2,
   "id": "2de4706f-f96c-4443-adc8-9e4e19cedad5",
   "metadata": {},
   "outputs": [
    {
     "name": "stdout",
     "output_type": "stream",
     "text": [
      "6\n"
     ]
    }
   ],
   "source": [
    "#recursive function\n",
    "\n",
    "def fact(n):\n",
    "    if n==0:\n",
    "        return 1\n",
    "    else:\n",
    "        return n*fact(n-1)\n",
    "print(fact(3))\n",
    "\n",
    "    "
   ]
  },
  {
   "cell_type": "code",
   "execution_count": 8,
   "id": "557d9145-8171-4cea-b378-a2b858696cb3",
   "metadata": {},
   "outputs": [
    {
     "name": "stdout",
     "output_type": "stream",
     "text": [
      "Fibbonacci series:\n",
      "0 1 1 2 3 5 8 13 21 34 "
     ]
    }
   ],
   "source": [
    "#Fibonacci series upto n terms\n",
    "\n",
    "def recursive_fibonacci(n):\n",
    "    if n<=1:\n",
    "        return n\n",
    "    else:\n",
    "        return recursive_fibonacci(n-1)+recursive_fibonacci(n-2)\n",
    "n_terms=10\n",
    "#checking the number of terms is valid\n",
    "if n_terms<=0:\n",
    "    print(\"Invalid , Please input a positive value:\")\n",
    "else:\n",
    "    print(\"Fibbonacci series:\")\n",
    "for i in range(n_terms):\n",
    "    print(recursive_fibonacci(i),end=\" \")\n"
   ]
  },
  {
   "cell_type": "code",
   "execution_count": 14,
   "id": "133ed933-781e-436a-b1e2-3f044878b6a9",
   "metadata": {},
   "outputs": [
    {
     "name": "stdout",
     "output_type": "stream",
     "text": [
      "2959\n"
     ]
    }
   ],
   "source": [
    "def myfunction(n):\n",
    "    if n==0:\n",
    "        return 1\n",
    "    else:\n",
    "        return (n-1)\n",
    "print(myfunction(2960))"
   ]
  },
  {
   "cell_type": "code",
   "execution_count": 11,
   "id": "ed33b7e5-cc3a-400e-92c7-e6445faa8a28",
   "metadata": {},
   "outputs": [
    {
     "name": "stdout",
     "output_type": "stream",
     "text": [
      "8\n"
     ]
    }
   ],
   "source": [
    "#wap to find certain power of a given number\n",
    "\n",
    "def pwr(num,power):\n",
    "    if power==0:\n",
    "        return 1\n",
    "    else:\n",
    "        return num*pwr(num,power-1)\n",
    "print(pwr(2,3))"
   ]
  },
  {
   "cell_type": "code",
   "execution_count": 23,
   "id": "89986d2f-fac6-4cb6-9c4a-e4325dc6fa40",
   "metadata": {},
   "outputs": [
    {
     "name": "stdout",
     "output_type": "stream",
     "text": [
      "8\n"
     ]
    }
   ],
   "source": [
    "#WAP to calculate exponential of x,y\n",
    "\n",
    "def exp(x,y):\n",
    "    if y==0:\n",
    "        return 1\n",
    "    else:\n",
    "        return x*exp(x,(y-1))\n",
    "print(fun1(2,3))\n",
    "        \n"
   ]
  },
  {
   "cell_type": "code",
   "execution_count": 27,
   "id": "34eb8442-093e-4a9e-95fe-9936e48c99d8",
   "metadata": {},
   "outputs": [
    {
     "name": "stdout",
     "output_type": "stream",
     "text": [
      "5\n"
     ]
    }
   ],
   "source": [
    "#python module\n",
    "\n",
    "import calc\n",
    "print(calc.sum(2,3))"
   ]
  },
  {
   "cell_type": "code",
   "execution_count": 33,
   "id": "4b68e474-76df-4391-a131-2a17a697a3b1",
   "metadata": {},
   "outputs": [
    {
     "name": "stdout",
     "output_type": "stream",
     "text": [
      "The new created array is:123\n",
      "The new created array is:2.53.23.3"
     ]
    }
   ],
   "source": [
    "import array as arr\n",
    "a=arr.array('i',[1,2,3])\n",
    "print(\"The new created array is:\",end=\"\")\n",
    "for i in range(0,3):\n",
    "    print(a[i],end=\"\")\n",
    "b=arr.array('d',[2.5,3.2,3.3])\n",
    "print(\"\\nThe new created array is:\",end=\"\")\n",
    "for i in range(0,3):\n",
    "    print(b[i],end=\"\")\n"
   ]
  },
  {
   "cell_type": "code",
   "execution_count": 32,
   "id": "f93f0a3a-3b7f-41f2-959b-98aa1b84dd0d",
   "metadata": {},
   "outputs": [
    {
     "name": "stdout",
     "output_type": "stream",
     "text": [
      "Array before insertion:123\n",
      "Arry after insertion:1423\n",
      "array before insertion:2.53.23.0\n",
      "Arry after insertion:2.53.23.03.04.4\n"
     ]
    }
   ],
   "source": [
    "import array as arr\n",
    "a=arr.array('i',[1,2,3])\n",
    "print(\"Array before insertion:\", end=\"\")\n",
    "for i in range(0,3):\n",
    "    print(a[i],end=\"\")\n",
    "print()\n",
    "a.insert(1,4)\n",
    "print(\"Arry after insertion:\",end=\"\")\n",
    "for i in (a):\n",
    "    print(i, end=\"\")\n",
    "print()\n",
    "b=arr.array('d',[2.5,3.2,3,3])\n",
    "print(\"array before insertion:\", end=\"\")\n",
    "for i  in range(0,3):\n",
    "    print(b[i], end=\"\")\n",
    "print()\n",
    "b.append(4.4)\n",
    "print(\"Arry after insertion:\",end=\"\")\n",
    "for i in (b):\n",
    "    print(i, end=\"\")\n",
    "print()\n"
   ]
  },
  {
   "cell_type": "code",
   "execution_count": null,
   "id": "a59a91a0-0dfc-4009-ac5c-aaa2a391a828",
   "metadata": {},
   "outputs": [],
   "source": []
  }
 ],
 "metadata": {
  "kernelspec": {
   "display_name": "Python 3 (ipykernel)",
   "language": "python",
   "name": "python3"
  },
  "language_info": {
   "codemirror_mode": {
    "name": "ipython",
    "version": 3
   },
   "file_extension": ".py",
   "mimetype": "text/x-python",
   "name": "python",
   "nbconvert_exporter": "python",
   "pygments_lexer": "ipython3",
   "version": "3.12.4"
  }
 },
 "nbformat": 4,
 "nbformat_minor": 5
}
