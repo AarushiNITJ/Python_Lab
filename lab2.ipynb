{
 "cells": [
  {
   "cell_type": "code",
   "execution_count": 1,
   "id": "be824882-04f7-44e0-bddd-bae0e32a523f",
   "metadata": {},
   "outputs": [
    {
     "name": "stdin",
     "output_type": "stream",
     "text": [
      "Enter age :  56\n"
     ]
    },
    {
     "name": "stdout",
     "output_type": "stream",
     "text": [
      "Eligible for Voting\n"
     ]
    }
   ],
   "source": [
    "#WAP to determine whether a person is eligible to vote or not\n",
    "\n",
    "age = int(input(\"Enter age : \"))\n",
    "\n",
    "if age >= 18:\n",
    "    print(\"Eligible for Voting\")\n",
    "else:\n",
    "    print(\"Not Eligible for Voting\")\n"
   ]
  },
  {
   "cell_type": "code",
   "execution_count": 2,
   "id": "e426e233-02d6-4519-a064-d8fb5dacbe59",
   "metadata": {},
   "outputs": [
    {
     "name": "stdin",
     "output_type": "stream",
     "text": [
      "Enter a number: 8\n"
     ]
    },
    {
     "name": "stdout",
     "output_type": "stream",
     "text": [
      "positive\n"
     ]
    }
   ],
   "source": [
    "#WAP to test whether number entered by user is positive, negative or zero\n",
    "\n",
    "n=int(input(\"Enter a number:\"))\n",
    "if n>0:\n",
    "    print(\"positive\")\n",
    "elif  n<0:\n",
    "    print(\"negative\")\n",
    "else:\n",
    "    print(\"zero\")"
   ]
  },
  {
   "cell_type": "code",
   "execution_count": 3,
   "id": "439ff15d-add8-4cd0-b528-3091185f52b8",
   "metadata": {},
   "outputs": [
    {
     "name": "stdin",
     "output_type": "stream",
     "text": [
      "Enter a number: 6\n"
     ]
    },
    {
     "name": "stdout",
     "output_type": "stream",
     "text": [
      "saturday\n"
     ]
    }
   ],
   "source": [
    "#WAP that displays a user enter a number between 1 to 7 and then display the corr day of the week\n",
    "\n",
    "n=int(input(\"Enter a number:\"))\n",
    "if n>=1 and n<=7:\n",
    "    if n==1:\n",
    "        print(\"monday\")\n",
    "    elif n==2:\n",
    "        print(\"tuesday\")\n",
    "    elif n==3:\n",
    "        print(\"wednesday\")\n",
    "    elif n==4:\n",
    "        print(\"thursday\")\n",
    "    elif n==5:\n",
    "        print(\"friday\")\n",
    "    elif n==6:\n",
    "        print(\"saturday\")\n",
    "    else:\n",
    "        print(\"sunday\")\n",
    "    "
   ]
  },
  {
   "cell_type": "code",
   "execution_count": 26,
   "id": "536f6faf-a1db-4fa2-b693-c91600822814",
   "metadata": {},
   "outputs": [
    {
     "name": "stdin",
     "output_type": "stream",
     "text": [
      "Enter something: aar\n"
     ]
    },
    {
     "name": "stdout",
     "output_type": "stream",
     "text": [
      "The input is a character.\n",
      "It is a lowercase letter.\n"
     ]
    }
   ],
   "source": [
    "#WAP  to take input from user and check whether it is a number or character \n",
    "#and if it is a character then determine whether it is an uppercase or lowercase\n",
    "\n",
    "\n",
    "inp=input(\"Enter something:\")\n",
    "if inp.isdigit():\n",
    "    print(\"The input is a number.\")\n",
    "elif inp.isalpha():\n",
    "    print(\"The input is a character.\")\n",
    "    if inp.isupper():\n",
    "        print(\"It is an uppercase letter.\")\n",
    "    else:\n",
    "        print(\"It is a lowercase letter.\")\n",
    "else:\n",
    "    print(\"The input is neither a single character nor a number.\")\n",
    "\n",
    "\n",
    "\n",
    "\n",
    "\n",
    "\n",
    "\n"
   ]
  },
  {
   "cell_type": "code",
   "execution_count": 7,
   "id": "61f38bd3-f18b-4475-bca0-250851f5d9d2",
   "metadata": {},
   "outputs": [
    {
     "name": "stdout",
     "output_type": "stream",
     "text": [
      "sum is: 55\n",
      "average= 5.5\n"
     ]
    }
   ],
   "source": [
    "# WAP to calc sum and average of first 10 numbers\n",
    "\n",
    "sum=0\n",
    "i=0\n",
    "while i<=10:\n",
    "    sum+=i\n",
    "    i+=1\n",
    "\n",
    "print(\"sum is:\",sum)\n",
    "\n",
    "av=sum/10\n",
    "print(\"average=\",av)"
   ]
  },
  {
   "cell_type": "code",
   "execution_count": 9,
   "id": "98a815d9-4eeb-4cbb-8318-dc214468cdb4",
   "metadata": {},
   "outputs": [
    {
     "name": "stdin",
     "output_type": "stream",
     "text": [
      "enter value of m: 3\n",
      "enter value of n: 6\n"
     ]
    },
    {
     "name": "stdout",
     "output_type": "stream",
     "text": [
      "12\n"
     ]
    }
   ],
   "source": [
    "#WAP to calc sum of numbers from m to n\n",
    "\n",
    "m=int(input(\"enter value of m:\"))\n",
    "n=int(input(\"enter value of n:\"))\n",
    "\n",
    "s=0\n",
    "if(m<=n):\n",
    "    c=1\n",
    "elif(m>n):\n",
    "    c=-1\n",
    "\n",
    "for i in range(m,n,c):\n",
    "    s+=i\n",
    "\n",
    "print(s)\n"
   ]
  },
  {
   "cell_type": "code",
   "execution_count": 14,
   "id": "8a00b120-366d-402a-9a4c-b9ff7c0784ca",
   "metadata": {},
   "outputs": [
    {
     "name": "stdin",
     "output_type": "stream",
     "text": [
      "Enter the number: 1\n",
      "Enter the number: 2\n",
      "Enter the number: -2\n",
      "Enter the number: -1\n"
     ]
    },
    {
     "name": "stdout",
     "output_type": "stream",
     "text": [
      "Average of positive numbers:  1.5\n",
      "Average of negative numbers:  -2.0\n"
     ]
    }
   ],
   "source": [
    "#WAP to read the numbers until -1 is encountered and then find the average of positive and negative numbers entered by user\n",
    "\n",
    "sum_pos = 0\n",
    "sum_neg = 0\n",
    "c1 = 0\n",
    "c2 = 0\n",
    "\n",
    "while(True):\n",
    "    inp =int(input(\"Enter the number:\"))\n",
    "    if inp==-1:\n",
    "        break\n",
    "    if(inp > 0):\n",
    "        sum_pos+=inp\n",
    "        c1+=1\n",
    "    elif(inp < 0):\n",
    "        sum_neg+=inp\n",
    "        c2+=1\n",
    "\n",
    "if c1 > 0:\n",
    "    avg_pos = sum_pos / c1\n",
    "else:\n",
    "    avg_pos = None\n",
    "\n",
    "if c2 > 0:\n",
    "    avg_neg = sum_neg / c2\n",
    "else:\n",
    "    avg_neg = None \n",
    "\n",
    "print(\"Average of positive numbers: \", avg_pos if avg_pos is not None else \"No positive numbers entered\")\n",
    "print(\"Average of negative numbers: \", avg_neg if avg_neg is not None else \"No negative numbers entered\")"
   ]
  },
  {
   "cell_type": "code",
   "execution_count": 15,
   "id": "094c326b-59e8-413d-b11e-80c9ef5f066a",
   "metadata": {},
   "outputs": [
    {
     "name": "stdout",
     "output_type": "stream",
     "text": [
      "1\n",
      "2\n",
      "3\n",
      "4\n",
      "5\n",
      "6\n",
      "7\n",
      "8\n",
      "9\n",
      "10\n"
     ]
    }
   ],
   "source": [
    "#WAP to print first 10 numbers using while loop\n",
    "\n",
    "i=1\n",
    "while i<=10:\n",
    "    print(i)\n",
    "    i+=1"
   ]
  },
  {
   "cell_type": "code",
   "execution_count": null,
   "id": "40aeaf11-e143-4fdf-aa49-060416c7308b",
   "metadata": {},
   "outputs": [],
   "source": []
  }
 ],
 "metadata": {
  "kernelspec": {
   "display_name": "Python 3 (ipykernel)",
   "language": "python",
   "name": "python3"
  },
  "language_info": {
   "codemirror_mode": {
    "name": "ipython",
    "version": 3
   },
   "file_extension": ".py",
   "mimetype": "text/x-python",
   "name": "python",
   "nbconvert_exporter": "python",
   "pygments_lexer": "ipython3",
   "version": "3.12.4"
  }
 },
 "nbformat": 4,
 "nbformat_minor": 5
}
